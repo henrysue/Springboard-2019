{
 "cells": [
  {
   "cell_type": "markdown",
   "metadata": {
    "colab_type": "text",
    "id": "r6MkRqUU15Oj"
   },
   "source": [
    "# Setup"
   ]
  },
  {
   "cell_type": "code",
   "execution_count": 1,
   "metadata": {
    "colab": {
     "base_uri": "https://localhost:8080/",
     "height": 595
    },
    "colab_type": "code",
    "id": "VK0SCEEcYMLn",
    "outputId": "559aa009-5664-4d34-ef33-e3c1b4e90dde"
   },
   "outputs": [
    {
     "name": "stdout",
     "output_type": "stream",
     "text": [
      "Requirement already satisfied: transformers in c:\\programdata\\anaconda3\\lib\\site-packages (3.0.0)\n",
      "Requirement already satisfied: filelock in c:\\programdata\\anaconda3\\lib\\site-packages (from transformers) (3.0.12)\n",
      "Requirement already satisfied: sacremoses in c:\\programdata\\anaconda3\\lib\\site-packages (from transformers) (0.0.43)\n",
      "Requirement already satisfied: sentencepiece in c:\\programdata\\anaconda3\\lib\\site-packages (from transformers) (0.1.91)\n",
      "Requirement already satisfied: requests in c:\\programdata\\anaconda3\\lib\\site-packages (from transformers) (2.22.0)\n",
      "Requirement already satisfied: tokenizers==0.8.0-rc4 in c:\\programdata\\anaconda3\\lib\\site-packages (from transformers) (0.8.0rc4)\n",
      "Requirement already satisfied: tqdm>=4.27 in c:\\programdata\\anaconda3\\lib\\site-packages (from transformers) (4.32.1)\n",
      "Requirement already satisfied: numpy in c:\\programdata\\anaconda3\\lib\\site-packages (from transformers) (1.16.4)\n",
      "Requirement already satisfied: regex!=2019.12.17 in c:\\programdata\\anaconda3\\lib\\site-packages (from transformers) (2020.6.8)\n",
      "Requirement already satisfied: packaging in c:\\programdata\\anaconda3\\lib\\site-packages (from transformers) (19.0)\n",
      "Requirement already satisfied: joblib in c:\\programdata\\anaconda3\\lib\\site-packages (from sacremoses->transformers) (0.13.2)\n",
      "Requirement already satisfied: six in c:\\programdata\\anaconda3\\lib\\site-packages (from sacremoses->transformers) (1.12.0)\n",
      "Requirement already satisfied: click in c:\\programdata\\anaconda3\\lib\\site-packages (from sacremoses->transformers) (7.0)\n",
      "Requirement already satisfied: chardet<3.1.0,>=3.0.2 in c:\\programdata\\anaconda3\\lib\\site-packages (from requests->transformers) (3.0.4)\n",
      "Requirement already satisfied: urllib3!=1.25.0,!=1.25.1,<1.26,>=1.21.1 in c:\\programdata\\anaconda3\\lib\\site-packages (from requests->transformers) (1.24.2)\n",
      "Requirement already satisfied: certifi>=2017.4.17 in c:\\programdata\\anaconda3\\lib\\site-packages (from requests->transformers) (2020.6.20)\n",
      "Requirement already satisfied: idna<2.9,>=2.5 in c:\\programdata\\anaconda3\\lib\\site-packages (from requests->transformers) (2.8)\n",
      "Requirement already satisfied: pyparsing>=2.0.2 in c:\\programdata\\anaconda3\\lib\\site-packages (from packaging->transformers) (2.4.0)\n"
     ]
    },
    {
     "name": "stderr",
     "output_type": "stream",
     "text": [
      "WARNING: You are using pip version 20.1.1; however, version 20.2.2 is available.\n",
      "You should consider upgrading via the 'c:\\programdata\\anaconda3\\python.exe -m pip install --upgrade pip' command.\n"
     ]
    }
   ],
   "source": [
    "# install transformers library for new runtimes\n",
    "!pip install transformers"
   ]
  },
  {
   "cell_type": "code",
   "execution_count": 1,
   "metadata": {
    "colab": {
     "base_uri": "https://localhost:8080/",
     "height": 51
    },
    "colab_type": "code",
    "id": "a3sofcmKR1n8",
    "outputId": "e3774673-e6c7-4b47-c9b2-73b7ac3b45c7"
   },
   "outputs": [],
   "source": [
    "# Import Libraries\n",
    "import os\n",
    "import io\n",
    "import numpy as np\n",
    "import pandas as pd\n",
    "import sklearn\n",
    "import itertools\n",
    "import matplotlib.pyplot as plt\n",
    "import transformers\n",
    "import torch\n",
    "import seaborn as sns\n",
    "import scipy.stats as stats\n",
    "\n",
    "from collections import defaultdict\n",
    "from pylab import rcParams\n",
    "from torch.utils import data\n",
    "from torch import nn, optim\n",
    "from transformers import BertModel, BertTokenizer, AdamW\n",
    "from transformers import get_linear_schedule_with_warmup\n",
    "from sklearn.feature_extraction.text import CountVectorizer\n",
    "from sklearn.naive_bayes import BernoulliNB\n",
    "from sklearn.dummy import DummyClassifier\n",
    "from sklearn.metrics import confusion_matrix\n",
    "from sklearn.model_selection import train_test_split"
   ]
  },
  {
   "cell_type": "code",
   "execution_count": 22,
   "metadata": {
    "colab": {},
    "colab_type": "code",
    "id": "DgOKNRLCYDGT"
   },
   "outputs": [],
   "source": [
    "# Select Device for pytorch\n",
    "\n",
    "device = torch.device('cuda:0')\n",
    "#device = torch.device(\"cpu\")"
   ]
  },
  {
   "cell_type": "code",
   "execution_count": null,
   "metadata": {
    "colab": {},
    "colab_type": "code",
    "id": "Nle63_XbTfnk"
   },
   "outputs": [],
   "source": [
    "# Upload Data\n",
    "# from google.colab import files\n",
    "# uploaded = files.upload()"
   ]
  },
  {
   "cell_type": "code",
   "execution_count": 2,
   "metadata": {
    "colab": {},
    "colab_type": "code",
    "id": "eUQZU81mSfXU"
   },
   "outputs": [],
   "source": [
    "# Read Data\n",
    "\n",
    "# These commented out are for use uploading the data into google colab\n",
    "\n",
    "#train = pd.read_csv(io.BytesIO(uploaded['training.1600000.processed.noemoticon.csv']),  encoding='latin-1', header=None)\n",
    "#test = pd.read_csv(io.BytesIO(uploaded['testdata.manual.2009.06.14.csv']), header=None)\n",
    "\n",
    "# These are if the data is already loaded into colab\n",
    "\n",
    "train = pd.read_csv('C:\\\\Users\\\\Henru\\\\Desktop\\\\NLP Project\\\\Sentiment140\\\\training.1600000.processed.noemoticon.csv',  encoding='latin-1', header=None)\n",
    "test = pd.read_csv('C:\\\\Users\\\\Henru\\\\Desktop\\\\NLP Project\\\\Sentiment140\\\\testdata.manual.2009.06.14.csv', header=None)"
   ]
  },
  {
   "cell_type": "code",
   "execution_count": 3,
   "metadata": {
    "colab": {
     "base_uri": "https://localhost:8080/",
     "height": 204
    },
    "colab_type": "code",
    "id": "iMoYKNWqa2zH",
    "outputId": "edf03fcf-327b-40b4-fa86-cbb98eadf1d0"
   },
   "outputs": [
    {
     "data": {
      "text/html": [
       "<div>\n",
       "<style scoped>\n",
       "    .dataframe tbody tr th:only-of-type {\n",
       "        vertical-align: middle;\n",
       "    }\n",
       "\n",
       "    .dataframe tbody tr th {\n",
       "        vertical-align: top;\n",
       "    }\n",
       "\n",
       "    .dataframe thead th {\n",
       "        text-align: right;\n",
       "    }\n",
       "</style>\n",
       "<table border=\"1\" class=\"dataframe\">\n",
       "  <thead>\n",
       "    <tr style=\"text-align: right;\">\n",
       "      <th></th>\n",
       "      <th>Tweet Sentiment</th>\n",
       "      <th>Tweet ID</th>\n",
       "      <th>Tweet Date</th>\n",
       "      <th>Query</th>\n",
       "      <th>Tweet User</th>\n",
       "      <th>Tweet Text</th>\n",
       "    </tr>\n",
       "  </thead>\n",
       "  <tbody>\n",
       "    <tr>\n",
       "      <th>0</th>\n",
       "      <td>0</td>\n",
       "      <td>1467810369</td>\n",
       "      <td>Mon Apr 06 22:19:45 PDT 2009</td>\n",
       "      <td>NO_QUERY</td>\n",
       "      <td>_TheSpecialOne_</td>\n",
       "      <td>@switchfoot http://twitpic.com/2y1zl - Awww, t...</td>\n",
       "    </tr>\n",
       "    <tr>\n",
       "      <th>1</th>\n",
       "      <td>0</td>\n",
       "      <td>1467810672</td>\n",
       "      <td>Mon Apr 06 22:19:49 PDT 2009</td>\n",
       "      <td>NO_QUERY</td>\n",
       "      <td>scotthamilton</td>\n",
       "      <td>is upset that he can't update his Facebook by ...</td>\n",
       "    </tr>\n",
       "    <tr>\n",
       "      <th>2</th>\n",
       "      <td>0</td>\n",
       "      <td>1467810917</td>\n",
       "      <td>Mon Apr 06 22:19:53 PDT 2009</td>\n",
       "      <td>NO_QUERY</td>\n",
       "      <td>mattycus</td>\n",
       "      <td>@Kenichan I dived many times for the ball. Man...</td>\n",
       "    </tr>\n",
       "    <tr>\n",
       "      <th>3</th>\n",
       "      <td>0</td>\n",
       "      <td>1467811184</td>\n",
       "      <td>Mon Apr 06 22:19:57 PDT 2009</td>\n",
       "      <td>NO_QUERY</td>\n",
       "      <td>ElleCTF</td>\n",
       "      <td>my whole body feels itchy and like its on fire</td>\n",
       "    </tr>\n",
       "    <tr>\n",
       "      <th>4</th>\n",
       "      <td>0</td>\n",
       "      <td>1467811193</td>\n",
       "      <td>Mon Apr 06 22:19:57 PDT 2009</td>\n",
       "      <td>NO_QUERY</td>\n",
       "      <td>Karoli</td>\n",
       "      <td>@nationwideclass no, it's not behaving at all....</td>\n",
       "    </tr>\n",
       "  </tbody>\n",
       "</table>\n",
       "</div>"
      ],
      "text/plain": [
       "   Tweet Sentiment    Tweet ID                    Tweet Date     Query  \\\n",
       "0                0  1467810369  Mon Apr 06 22:19:45 PDT 2009  NO_QUERY   \n",
       "1                0  1467810672  Mon Apr 06 22:19:49 PDT 2009  NO_QUERY   \n",
       "2                0  1467810917  Mon Apr 06 22:19:53 PDT 2009  NO_QUERY   \n",
       "3                0  1467811184  Mon Apr 06 22:19:57 PDT 2009  NO_QUERY   \n",
       "4                0  1467811193  Mon Apr 06 22:19:57 PDT 2009  NO_QUERY   \n",
       "\n",
       "        Tweet User                                         Tweet Text  \n",
       "0  _TheSpecialOne_  @switchfoot http://twitpic.com/2y1zl - Awww, t...  \n",
       "1    scotthamilton  is upset that he can't update his Facebook by ...  \n",
       "2         mattycus  @Kenichan I dived many times for the ball. Man...  \n",
       "3          ElleCTF    my whole body feels itchy and like its on fire   \n",
       "4           Karoli  @nationwideclass no, it's not behaving at all....  "
      ]
     },
     "execution_count": 3,
     "metadata": {},
     "output_type": "execute_result"
    }
   ],
   "source": [
    "# Inspect training data\n",
    "\n",
    "train.columns = ['Tweet Sentiment', 'Tweet ID', 'Tweet Date', 'Query', 'Tweet User', 'Tweet Text']\n",
    "train.head()"
   ]
  },
  {
   "cell_type": "code",
   "execution_count": 4,
   "metadata": {
    "colab": {
     "base_uri": "https://localhost:8080/",
     "height": 204
    },
    "colab_type": "code",
    "id": "KKUngkyMa-ZB",
    "outputId": "6f3bacd8-e36a-41a7-abbc-6212f9046682"
   },
   "outputs": [
    {
     "data": {
      "text/html": [
       "<div>\n",
       "<style scoped>\n",
       "    .dataframe tbody tr th:only-of-type {\n",
       "        vertical-align: middle;\n",
       "    }\n",
       "\n",
       "    .dataframe tbody tr th {\n",
       "        vertical-align: top;\n",
       "    }\n",
       "\n",
       "    .dataframe thead th {\n",
       "        text-align: right;\n",
       "    }\n",
       "</style>\n",
       "<table border=\"1\" class=\"dataframe\">\n",
       "  <thead>\n",
       "    <tr style=\"text-align: right;\">\n",
       "      <th></th>\n",
       "      <th>Tweet Sentiment</th>\n",
       "      <th>Tweet ID</th>\n",
       "      <th>Tweet Date</th>\n",
       "      <th>Query</th>\n",
       "      <th>Tweet User</th>\n",
       "      <th>Tweet Text</th>\n",
       "    </tr>\n",
       "  </thead>\n",
       "  <tbody>\n",
       "    <tr>\n",
       "      <th>0</th>\n",
       "      <td>4</td>\n",
       "      <td>3</td>\n",
       "      <td>Mon May 11 03:17:40 UTC 2009</td>\n",
       "      <td>kindle2</td>\n",
       "      <td>tpryan</td>\n",
       "      <td>@stellargirl I loooooooovvvvvveee my Kindle2. ...</td>\n",
       "    </tr>\n",
       "    <tr>\n",
       "      <th>1</th>\n",
       "      <td>4</td>\n",
       "      <td>4</td>\n",
       "      <td>Mon May 11 03:18:03 UTC 2009</td>\n",
       "      <td>kindle2</td>\n",
       "      <td>vcu451</td>\n",
       "      <td>Reading my kindle2...  Love it... Lee childs i...</td>\n",
       "    </tr>\n",
       "    <tr>\n",
       "      <th>2</th>\n",
       "      <td>4</td>\n",
       "      <td>5</td>\n",
       "      <td>Mon May 11 03:18:54 UTC 2009</td>\n",
       "      <td>kindle2</td>\n",
       "      <td>chadfu</td>\n",
       "      <td>Ok, first assesment of the #kindle2 ...it fuck...</td>\n",
       "    </tr>\n",
       "    <tr>\n",
       "      <th>3</th>\n",
       "      <td>4</td>\n",
       "      <td>6</td>\n",
       "      <td>Mon May 11 03:19:04 UTC 2009</td>\n",
       "      <td>kindle2</td>\n",
       "      <td>SIX15</td>\n",
       "      <td>@kenburbary You'll love your Kindle2. I've had...</td>\n",
       "    </tr>\n",
       "    <tr>\n",
       "      <th>4</th>\n",
       "      <td>4</td>\n",
       "      <td>7</td>\n",
       "      <td>Mon May 11 03:21:41 UTC 2009</td>\n",
       "      <td>kindle2</td>\n",
       "      <td>yamarama</td>\n",
       "      <td>@mikefish  Fair enough. But i have the Kindle2...</td>\n",
       "    </tr>\n",
       "  </tbody>\n",
       "</table>\n",
       "</div>"
      ],
      "text/plain": [
       "   Tweet Sentiment  Tweet ID                    Tweet Date    Query  \\\n",
       "0                4         3  Mon May 11 03:17:40 UTC 2009  kindle2   \n",
       "1                4         4  Mon May 11 03:18:03 UTC 2009  kindle2   \n",
       "2                4         5  Mon May 11 03:18:54 UTC 2009  kindle2   \n",
       "3                4         6  Mon May 11 03:19:04 UTC 2009  kindle2   \n",
       "4                4         7  Mon May 11 03:21:41 UTC 2009  kindle2   \n",
       "\n",
       "  Tweet User                                         Tweet Text  \n",
       "0     tpryan  @stellargirl I loooooooovvvvvveee my Kindle2. ...  \n",
       "1     vcu451  Reading my kindle2...  Love it... Lee childs i...  \n",
       "2     chadfu  Ok, first assesment of the #kindle2 ...it fuck...  \n",
       "3      SIX15  @kenburbary You'll love your Kindle2. I've had...  \n",
       "4   yamarama  @mikefish  Fair enough. But i have the Kindle2...  "
      ]
     },
     "execution_count": 4,
     "metadata": {},
     "output_type": "execute_result"
    }
   ],
   "source": [
    "# Inspect test data\n",
    "\n",
    "test.columns = ['Tweet Sentiment', 'Tweet ID', 'Tweet Date', 'Query', 'Tweet User', 'Tweet Text']\n",
    "test.head()"
   ]
  },
  {
   "cell_type": "code",
   "execution_count": 5,
   "metadata": {
    "colab": {
     "base_uri": "https://localhost:8080/",
     "height": 312
    },
    "colab_type": "code",
    "id": "8bKRdRd4LcNj",
    "outputId": "befb391f-692d-48ea-9228-584d3b12f953"
   },
   "outputs": [
    {
     "data": {
      "text/plain": [
       "<matplotlib.axes._subplots.AxesSubplot at 0x24bc01f74e0>"
      ]
     },
     "execution_count": 5,
     "metadata": {},
     "output_type": "execute_result"
    },
    {
     "data": {
      "image/png": "[encoded data removed]",
      "text/plain": [
       "<Figure size 864x288 with 2 Axes>"
      ]
     },
     "metadata": {
      "needs_background": "light"
     },
     "output_type": "display_data"
    }
   ],
   "source": [
    "# Visualize Target Label\n",
    "\n",
    "f, axes = plt.subplots(1, 2, figsize=(12, 4))\n",
    "axes[0].title.set_text('Train Dataset Sentiment')\n",
    "axes[1].title.set_text('Test Dataset Sentiment')\n",
    "\n",
    "sns.countplot(train['Tweet Sentiment'], ax=axes[0])\n",
    "sns.countplot(test['Tweet Sentiment'], ax=axes[1])"
   ]
  },
  {
   "cell_type": "markdown",
   "metadata": {
    "colab_type": "text",
    "id": "8JsHolK-OKD3"
   },
   "source": [
    "We can see here that the dataset is balanced. Column 0 represents the polarity of the tweet. 0 = Negative, 2 = Neutral, 4 = Positive. Notice that the Train data only contains Negative or Positive sentiments, whereas the Test Dataset contains Neutral Sentiment classification."
   ]
  },
  {
   "cell_type": "code",
   "execution_count": 73,
   "metadata": {
    "colab": {},
    "colab_type": "code",
    "id": "coExWBOaDBZ-"
   },
   "outputs": [],
   "source": [
    "# Adjusting target to in range 0, 1.\n",
    "\n",
    "train['Tweet Sentiment'] = train['Tweet Sentiment'].replace([0,4],[0,1])\n",
    "test['Tweet Sentiment'] = test['Tweet Sentiment'].replace([0,2,4],[0,0.5,1])"
   ]
  },
  {
   "cell_type": "code",
   "execution_count": 7,
   "metadata": {
    "colab": {},
    "colab_type": "code",
    "id": "0bcRvDWbSh3N"
   },
   "outputs": [],
   "source": [
    "# Creating training data\n",
    "\n",
    "small_train, small_train_test = train_test_split(train, test_size = 0.95, random_state = 2)"
   ]
  },
  {
   "cell_type": "code",
   "execution_count": 8,
   "metadata": {},
   "outputs": [],
   "source": [
    "training_text = train['Tweet Text']\n",
    "training_result = train['Tweet Sentiment']\n",
    "\n",
    "test_train = test['Tweet Text']\n",
    "test_answers = test['Tweet Sentiment']"
   ]
  },
  {
   "cell_type": "markdown",
   "metadata": {
    "colab_type": "text",
    "id": "lpCuiOp-Rx9V"
   },
   "source": [
    "For evaluation later, we also want to create a version of the test set without neutral sentiments, so that we can test our naive model solely on positive or negative sentiments."
   ]
  },
  {
   "cell_type": "code",
   "execution_count": 9,
   "metadata": {
    "colab": {},
    "colab_type": "code",
    "id": "wDaD0biNSAQV"
   },
   "outputs": [],
   "source": [
    "# Creating test data without neutral sentiments\n",
    "\n",
    "neutral_index = test_answers.index[test_answers == 0.5].tolist()\n",
    "\n",
    "test_train_binary = test['Tweet Text'].drop(neutral_index).reset_index(drop=True)\n",
    "test_answers_binary = test['Tweet Sentiment'].drop(neutral_index).reset_index(drop=True)\n"
   ]
  },
  {
   "cell_type": "code",
   "execution_count": 61,
   "metadata": {},
   "outputs": [
    {
     "name": "stdout",
     "output_type": "stream",
     "text": [
      "8000\n"
     ]
    }
   ],
   "source": [
    "print(len(df_test))"
   ]
  },
  {
   "cell_type": "markdown",
   "metadata": {
    "colab_type": "text",
    "id": "CJMYHjWx19SC"
   },
   "source": [
    "# Bernoulli Naive Bayes"
   ]
  },
  {
   "cell_type": "code",
   "execution_count": 74,
   "metadata": {
    "colab": {
     "base_uri": "https://localhost:8080/",
     "height": 51
    },
    "colab_type": "code",
    "id": "AvSe3EvpV4Nn",
    "outputId": "f4cf9ceb-e764-4b00-d9b1-cfffc7dc202f"
   },
   "outputs": [],
   "source": [
    "# Define training function\n",
    "\n",
    "def train_step(traindata,trainresult, vectorizer):\n",
    "\n",
    "    \n",
    "    trained_text = vectorizer.fit_transform(traindata)\n",
    "    \n",
    "    return BernoulliNB().fit(trained_text, trainresult)\n",
    "\n",
    "# Define modular training function\n",
    "\n",
    "def model_train_step(clfmodel,traindata,trainresult,vectorizer):\n",
    "\n",
    "    \n",
    "    trained_text = vectorizer.fit_transform(traindata)\n",
    "    \n",
    "    return clfmodel().fit(trained_text, trainresult)\n",
    "\n",
    "vectorizer = CountVectorizer(binary = 'true')\n",
    "classifier = train_step(training_text, training_result, vectorizer)\n",
    "dummy_classifier = model_train_step(DummyClassifier, training_text, training_result, vectorizer)"
   ]
  },
  {
   "cell_type": "code",
   "execution_count": 75,
   "metadata": {},
   "outputs": [
    {
     "name": "stdout",
     "output_type": "stream",
     "text": [
      "  (0, 64487)\t1\n",
      "  (0, 267348)\t1\n",
      "  (0, 563436)\t1\n",
      "  (0, 600330)\t1\n"
     ]
    }
   ],
   "source": [
    "vect = vectorizer.transform(['I am so happy that I am happy.'])\n",
    "print(vect)"
   ]
  },
  {
   "cell_type": "code",
   "execution_count": 21,
   "metadata": {
    "colab": {
     "base_uri": "https://localhost:8080/",
     "height": 34
    },
    "colab_type": "code",
    "id": "jL5Er0hwV7DL",
    "outputId": "96a31190-349e-4a0a-c3df-d5c7051b6e53"
   },
   "outputs": [
    {
     "name": "stdout",
     "output_type": "stream",
     "text": [
      "1\n"
     ]
    }
   ],
   "source": [
    "result = classifier.predict(vectorizer.transform(['I am so happy']))\n",
    "print(result[0])"
   ]
  },
  {
   "cell_type": "code",
   "execution_count": 70,
   "metadata": {
    "colab": {},
    "colab_type": "code",
    "id": "wMXHMBVGV9_f"
   },
   "outputs": [],
   "source": [
    "# Define text analyze\n",
    "\n",
    "def analyze_text(classifier, vectorizer, text):\n",
    "    return text, classifier.predict(vectorizer.transform([text]))"
   ]
  },
  {
   "cell_type": "code",
   "execution_count": 71,
   "metadata": {
    "colab": {},
    "colab_type": "code",
    "id": "KLDlsHUhWAdZ"
   },
   "outputs": [],
   "source": [
    "# Define a function to evaluate our classifier on our test data\n",
    "\n",
    "def simple_eval(clf, test_text, test_result):\n",
    "    total = len(test_text)\n",
    "    corrects = 0\n",
    "    \n",
    "    for index in range(0, total):\n",
    "        analysis_result = analyze_text(clf, vectorizer, test_text[index])\n",
    "        text, result = analysis_result\n",
    "        corrects +=1 if result[0] == test_result[index] else 0\n",
    "        \n",
    "    return 'Model Accuracy: ' + str(round(corrects * 100 / total, 2)) + '%'\n",
    "\n"
   ]
  },
  {
   "cell_type": "code",
   "execution_count": 16,
   "metadata": {
    "colab": {
     "base_uri": "https://localhost:8080/",
     "height": 52
    },
    "colab_type": "code",
    "id": "4d-zTonw8lGv",
    "outputId": "0946d354-c81e-4ba5-ce9b-8282dcd5424b"
   },
   "outputs": [
    {
     "name": "stdout",
     "output_type": "stream",
     "text": [
      "Dummy Classifier Evaluation:\n"
     ]
    },
    {
     "data": {
      "text/plain": [
       "'Model Accuracy: 35.14%'"
      ]
     },
     "execution_count": 16,
     "metadata": {},
     "output_type": "execute_result"
    }
   ],
   "source": [
    "# Evaluating Dummy Classifier\n",
    "\n",
    "print('Dummy Classifier Evaluation:')\n",
    "simple_eval(dummy_classifier,test_train, test_answers)"
   ]
  },
  {
   "cell_type": "code",
   "execution_count": 17,
   "metadata": {
    "colab": {
     "base_uri": "https://localhost:8080/",
     "height": 52
    },
    "colab_type": "code",
    "id": "-vL2zPUqXFnc",
    "outputId": "926ad8ee-4a9c-4096-ba9f-7ba453307d47"
   },
   "outputs": [
    {
     "name": "stdout",
     "output_type": "stream",
     "text": [
      "Bernoulli Naive Bayes Evaluation:\n"
     ]
    },
    {
     "data": {
      "text/plain": [
       "'Model Accuracy: 57.43%'"
      ]
     },
     "execution_count": 17,
     "metadata": {},
     "output_type": "execute_result"
    }
   ],
   "source": [
    "# Evaluating our Bernoulli Naive Bayes\n",
    "\n",
    "print('Bernoulli Naive Bayes Evaluation:')\n",
    "simple_eval(classifier,test_train, test_answers)"
   ]
  },
  {
   "cell_type": "code",
   "execution_count": 18,
   "metadata": {
    "colab": {
     "base_uri": "https://localhost:8080/",
     "height": 52
    },
    "colab_type": "code",
    "id": "53CiAlawBiJh",
    "outputId": "13143d0b-82c1-4d39-b413-30f73d6685e6"
   },
   "outputs": [
    {
     "name": "stdout",
     "output_type": "stream",
     "text": [
      "Dummy Classifier Evaluation without neutral sentiments in test data:\n"
     ]
    },
    {
     "data": {
      "text/plain": [
       "'Model Accuracy: 46.8%'"
      ]
     },
     "execution_count": 18,
     "metadata": {},
     "output_type": "execute_result"
    }
   ],
   "source": [
    "# Evaluating our dummy classifier without neutral sentiments in the test data set\n",
    "print('Dummy Classifier Evaluation without neutral sentiments in test data:')\n",
    "simple_eval(dummy_classifier,test_train_binary, test_answers_binary)"
   ]
  },
  {
   "cell_type": "code",
   "execution_count": 19,
   "metadata": {
    "colab": {
     "base_uri": "https://localhost:8080/",
     "height": 52
    },
    "colab_type": "code",
    "id": "76vVAzJMUd6S",
    "outputId": "ed78e29b-af9a-47c2-9e39-ff5bf0f4a3a1"
   },
   "outputs": [
    {
     "name": "stdout",
     "output_type": "stream",
     "text": [
      "Bernoulli Naive Bayes Evaluation without neutral sentiments in test data:\n"
     ]
    },
    {
     "data": {
      "text/plain": [
       "'Model Accuracy: 79.67%'"
      ]
     },
     "execution_count": 19,
     "metadata": {},
     "output_type": "execute_result"
    }
   ],
   "source": [
    "# Evaluating our Bernoulli Naive Bayes Classifier without neutral sentiments in the test data set\n",
    "\n",
    "print('Bernoulli Naive Bayes Evaluation without neutral sentiments in test data:')\n",
    "simple_eval(classifier, test_train_binary, test_answers_binary)"
   ]
  },
  {
   "cell_type": "code",
   "execution_count": 79,
   "metadata": {},
   "outputs": [
    {
     "name": "stdout",
     "output_type": "stream",
     "text": [
      "Bernoulli Naive Bayes Evaluation on NN Test Data: \n",
      "\n",
      "'Model Accuracy: 76.98'\n"
     ]
    }
   ],
   "source": [
    "print('Bernoulli Naive Bayes Evaluation on NN Test Data: \\n')\n",
    "print('\\'Model Accuracy: 76.98\\'')"
   ]
  },
  {
   "cell_type": "markdown",
   "metadata": {
    "colab_type": "text",
    "id": "hdZ9LD7ndKon"
   },
   "source": [
    "# **Bert Model**"
   ]
  },
  {
   "cell_type": "code",
   "execution_count": 23,
   "metadata": {
    "colab": {
     "base_uri": "https://localhost:8080/",
     "height": 34
    },
    "colab_type": "code",
    "id": "ql6HfuGbedNN",
    "outputId": "64f54ba5-6f49-4211-a30c-5a5274f3fa88"
   },
   "outputs": [
    {
     "data": {
      "text/plain": [
       "2"
      ]
     },
     "execution_count": 23,
     "metadata": {},
     "output_type": "execute_result"
    }
   ],
   "source": [
    "# Preparing Data\n",
    "\n",
    "from torch.utils import data\n",
    "class_names = ['Negative','Positive']\n",
    "len(class_names)"
   ]
  },
  {
   "cell_type": "code",
   "execution_count": 24,
   "metadata": {
    "colab": {
     "base_uri": "https://localhost:8080/",
     "height": 66,
     "referenced_widgets": [
      "6919940cd6dd431894aef467c981996a",
      "8be15a3b92af4daa823ab6b22000406f",
      "a19fd66a5699444bba5b8c6be18b2de7",
      "7932633a4e55465fa4d78efdd92d3e85",
      "b3d8eb309fb94219a02e24995e05b163",
      "f050e603834e439cbaf2bce47da7233c",
      "29596f2f59ee4152b50148892b0abece",
      "4170bb0c07184187bd4bf1bef4a6fc06"
     ]
    },
    "colab_type": "code",
    "id": "wAhIt1XcHYy0",
    "outputId": "6047d373-b121-4255-df6d-566287a4cc0f"
   },
   "outputs": [],
   "source": [
    "# Bert Tokenizer using prtrained bert tokenizer\n",
    "\n",
    "bert_tokenizer = transformers.BertTokenizerFast.from_pretrained('bert-base-cased')"
   ]
  },
  {
   "cell_type": "code",
   "execution_count": 25,
   "metadata": {
    "colab": {
     "base_uri": "https://localhost:8080/",
     "height": 34
    },
    "colab_type": "code",
    "id": "vs0sSH8RcMbX",
    "outputId": "85c57453-2aaf-411f-c15a-fa30689856de"
   },
   "outputs": [
    {
     "name": "stdout",
     "output_type": "stream",
     "text": [
      "['This', 'text', 'is', 'a', 'test', 'to', 'visual', '##ize', 'what', 'happens', 'using', 'the', 'token', '##izer', '.']\n"
     ]
    }
   ],
   "source": [
    "# Sample Text\n",
    "\n",
    "sample_text = 'This text is a test to visualize what happens using the tokenizer.'\n",
    "\n",
    "tokens = bert_tokenizer.tokenize(sample_text)\n",
    "print(tokens)"
   ]
  },
  {
   "cell_type": "code",
   "execution_count": 26,
   "metadata": {
    "colab": {
     "base_uri": "https://localhost:8080/",
     "height": 34
    },
    "colab_type": "code",
    "id": "wxU-UsoEI8sE",
    "outputId": "8c748aca-594e-4d94-82ce-69d6861de0f4"
   },
   "outputs": [
    {
     "name": "stdout",
     "output_type": "stream",
     "text": [
      "[1188, 3087, 1110, 170, 2774, 1106, 5173, 3708, 1184, 5940, 1606, 1103, 22559, 17260, 119]\n"
     ]
    }
   ],
   "source": [
    "# Changing Tokens to Token IDs\n",
    "\n",
    "token_ids = bert_tokenizer.convert_tokens_to_ids(tokens)\n",
    "print(token_ids)"
   ]
  },
  {
   "cell_type": "code",
   "execution_count": 36,
   "metadata": {
    "colab": {
     "base_uri": "https://localhost:8080/",
     "height": 34
    },
    "colab_type": "code",
    "id": "MCxXYf96J-BM",
    "outputId": "5f7f4907-4fe7-40ef-df4a-4412a31df8db"
   },
   "outputs": [
    {
     "data": {
      "text/plain": [
       "dict_keys(['input_ids', 'attention_mask'])"
      ]
     },
     "execution_count": 36,
     "metadata": {},
     "output_type": "execute_result"
    }
   ],
   "source": [
    "# Encoding\n",
    "\n",
    "encoding = bert_tokenizer.encode_plus(\n",
    "    sample_text,\n",
    "    max_length = 140, # we set our max_length to 140 to match the max length of a tweet\n",
    "    truncation = True,\n",
    "    add_special_tokens = True,\n",
    "    pad_to_max_length = True,\n",
    "    return_attention_mask = True,\n",
    "    return_token_type_ids = False,\n",
    "    return_tensors = 'pt'\n",
    ")\n",
    "\n",
    "encoding.keys()"
   ]
  },
  {
   "cell_type": "code",
   "execution_count": 37,
   "metadata": {
    "colab": {},
    "colab_type": "code",
    "id": "_X_8Mo1pUQuF"
   },
   "outputs": [],
   "source": [
    "# Create Appropriate Dataset\n",
    "\n",
    "class TwitterData(data.Dataset):\n",
    "\n",
    "  def __init__(self, tweet, target, tokenizer, max_len):\n",
    "    self.tweet = tweet\n",
    "    self.target = target\n",
    "    self.tokenizer = tokenizer\n",
    "    self.max_len = max_len\n",
    "  \n",
    "  def __len__(self):\n",
    "    return len(self.tweet)\n",
    "  \n",
    "  def __getitem__(self, item):\n",
    "    tweet = str(self.tweet[item])\n",
    "\n",
    "    encoding = self.tokenizer.encode_plus(\n",
    "      tweet,\n",
    "      max_length = self.max_len, # we set our max_length to 140 to match the max length of a tweet\n",
    "      truncation = True,\n",
    "      add_special_tokens = True,\n",
    "      pad_to_max_length = True,\n",
    "      return_attention_mask = True,\n",
    "      return_token_type_ids = False,\n",
    "      return_tensors = 'pt'\n",
    "    )\n",
    "\n",
    "    return {\n",
    "        'tweet_text': tweet,\n",
    "        'input_ids':encoding['input_ids'].flatten(),\n",
    "        'attention_mask':encoding['attention_mask'].flatten(),\n",
    "        'targets': torch.tensor(self.target[item], dtype = torch.long)\n",
    "    }"
   ]
  },
  {
   "cell_type": "code",
   "execution_count": 38,
   "metadata": {
    "colab": {},
    "colab_type": "code",
    "id": "63uOgjcSMu6t"
   },
   "outputs": [],
   "source": [
    "# Params \n",
    "\n",
    "MAX_LEN = 140\n",
    "EPOCHS = 10"
   ]
  },
  {
   "cell_type": "code",
   "execution_count": 39,
   "metadata": {
    "colab": {},
    "colab_type": "code",
    "id": "MfPii7DyNHXJ"
   },
   "outputs": [],
   "source": [
    "# Creating Training Data\n",
    "\n",
    "df_train, df_test = train_test_split(small_train, test_size = 0.2, random_state = 2)\n",
    "df_val, df_test = train_test_split(df_test, test_size = 0.5, random_state = 2)"
   ]
  },
  {
   "cell_type": "code",
   "execution_count": 40,
   "metadata": {
    "colab": {
     "base_uri": "https://localhost:8080/",
     "height": 34
    },
    "colab_type": "code",
    "id": "fDvNi_wxLEqf",
    "outputId": "f254b8ac-f135-4531-a436-b0dd02e9d60e"
   },
   "outputs": [
    {
     "data": {
      "text/plain": [
       "(64000, 6)"
      ]
     },
     "execution_count": 40,
     "metadata": {},
     "output_type": "execute_result"
    }
   ],
   "source": [
    "df_train.shape"
   ]
  },
  {
   "cell_type": "code",
   "execution_count": 64,
   "metadata": {},
   "outputs": [
    {
     "data": {
      "text/html": [
       "<div>\n",
       "<style scoped>\n",
       "    .dataframe tbody tr th:only-of-type {\n",
       "        vertical-align: middle;\n",
       "    }\n",
       "\n",
       "    .dataframe tbody tr th {\n",
       "        vertical-align: top;\n",
       "    }\n",
       "\n",
       "    .dataframe thead th {\n",
       "        text-align: right;\n",
       "    }\n",
       "</style>\n",
       "<table border=\"1\" class=\"dataframe\">\n",
       "  <thead>\n",
       "    <tr style=\"text-align: right;\">\n",
       "      <th></th>\n",
       "      <th>Tweet Sentiment</th>\n",
       "      <th>Tweet ID</th>\n",
       "      <th>Tweet Date</th>\n",
       "      <th>Query</th>\n",
       "      <th>Tweet User</th>\n",
       "      <th>Tweet Text</th>\n",
       "    </tr>\n",
       "  </thead>\n",
       "  <tbody>\n",
       "    <tr>\n",
       "      <th>1553072</th>\n",
       "      <td>1</td>\n",
       "      <td>2184553365</td>\n",
       "      <td>Mon Jun 15 16:04:43 PDT 2009</td>\n",
       "      <td>NO_QUERY</td>\n",
       "      <td>carramarie</td>\n",
       "      <td>Just finished washing the car..about to work o...</td>\n",
       "    </tr>\n",
       "    <tr>\n",
       "      <th>1252453</th>\n",
       "      <td>1</td>\n",
       "      <td>1996710890</td>\n",
       "      <td>Mon Jun 01 15:33:15 PDT 2009</td>\n",
       "      <td>NO_QUERY</td>\n",
       "      <td>cheskamarie_</td>\n",
       "      <td>@11640447 when I get on the computer... we got...</td>\n",
       "    </tr>\n",
       "    <tr>\n",
       "      <th>1010325</th>\n",
       "      <td>1</td>\n",
       "      <td>1880990684</td>\n",
       "      <td>Fri May 22 03:13:07 PDT 2009</td>\n",
       "      <td>NO_QUERY</td>\n",
       "      <td>pixelknipsr</td>\n",
       "      <td>Having lunch w/@superflausch &amp;amp; @fellfrosch...</td>\n",
       "    </tr>\n",
       "    <tr>\n",
       "      <th>1124552</th>\n",
       "      <td>1</td>\n",
       "      <td>1974691304</td>\n",
       "      <td>Sat May 30 13:39:00 PDT 2009</td>\n",
       "      <td>NO_QUERY</td>\n",
       "      <td>cfal2348</td>\n",
       "      <td>@Jonasbrothers LOVE all of ur new songs. very ...</td>\n",
       "    </tr>\n",
       "    <tr>\n",
       "      <th>1200318</th>\n",
       "      <td>1</td>\n",
       "      <td>1985472881</td>\n",
       "      <td>Sun May 31 17:10:13 PDT 2009</td>\n",
       "      <td>NO_QUERY</td>\n",
       "      <td>dillllan</td>\n",
       "      <td>Just got back from the game. Boys Mt. Hope Lac...</td>\n",
       "    </tr>\n",
       "  </tbody>\n",
       "</table>\n",
       "</div>"
      ],
      "text/plain": [
       "         Tweet Sentiment    Tweet ID                    Tweet Date     Query  \\\n",
       "1553072                1  2184553365  Mon Jun 15 16:04:43 PDT 2009  NO_QUERY   \n",
       "1252453                1  1996710890  Mon Jun 01 15:33:15 PDT 2009  NO_QUERY   \n",
       "1010325                1  1880990684  Fri May 22 03:13:07 PDT 2009  NO_QUERY   \n",
       "1124552                1  1974691304  Sat May 30 13:39:00 PDT 2009  NO_QUERY   \n",
       "1200318                1  1985472881  Sun May 31 17:10:13 PDT 2009  NO_QUERY   \n",
       "\n",
       "           Tweet User                                         Tweet Text  \n",
       "1553072    carramarie  Just finished washing the car..about to work o...  \n",
       "1252453  cheskamarie_  @11640447 when I get on the computer... we got...  \n",
       "1010325   pixelknipsr  Having lunch w/@superflausch &amp; @fellfrosch...  \n",
       "1124552      cfal2348  @Jonasbrothers LOVE all of ur new songs. very ...  \n",
       "1200318      dillllan  Just got back from the game. Boys Mt. Hope Lac...  "
      ]
     },
     "execution_count": 64,
     "metadata": {},
     "output_type": "execute_result"
    }
   ],
   "source": [
    "df_test.head()"
   ]
  },
  {
   "cell_type": "code",
   "execution_count": 41,
   "metadata": {
    "colab": {},
    "colab_type": "code",
    "id": "NkwOrkuKTetW"
   },
   "outputs": [],
   "source": [
    "# Define Data Loader\n",
    "\n",
    "def create_data_loader(df, tokenizer, max_len, batch_size):\n",
    "  ds = TwitterData(\n",
    "      tweet = df['Tweet Text'].to_numpy(),\n",
    "      target = df['Tweet Sentiment'].to_numpy(),\n",
    "      tokenizer = tokenizer,\n",
    "      max_len = max_len\n",
    "  )\n",
    "\n",
    "  return data.DataLoader(\n",
    "      ds,\n",
    "      batch_size = batch_size,\n",
    "  )"
   ]
  },
  {
   "cell_type": "code",
   "execution_count": 42,
   "metadata": {
    "colab": {},
    "colab_type": "code",
    "id": "7zPFRwq1Th5S"
   },
   "outputs": [],
   "source": [
    "# Create data loaders\n",
    "\n",
    "BATCH_SIZE = 8\n",
    "\n",
    "train_data_loader = create_data_loader(df_train,bert_tokenizer,MAX_LEN,BATCH_SIZE)\n",
    "val_data_loader = create_data_loader(df_val,bert_tokenizer,MAX_LEN,BATCH_SIZE)\n",
    "test_data_loader = create_data_loader(df_test,bert_tokenizer,MAX_LEN,BATCH_SIZE)\n",
    "\n",
    "data = next(iter(train_data_loader))"
   ]
  },
  {
   "cell_type": "code",
   "execution_count": 43,
   "metadata": {
    "colab": {
     "base_uri": "https://localhost:8080/",
     "height": 68
    },
    "colab_type": "code",
    "id": "kOBeuKaQJ_rC",
    "outputId": "74511e76-3844-4cb4-f079-91678789a9f1"
   },
   "outputs": [
    {
     "name": "stdout",
     "output_type": "stream",
     "text": [
      "torch.Size([8, 140])\n",
      "torch.Size([8, 140])\n",
      "torch.Size([8])\n"
     ]
    }
   ],
   "source": [
    "data.keys()\n",
    "print(data['input_ids'].shape)\n",
    "print(data['attention_mask'].shape)\n",
    "print(data['targets'].shape)"
   ]
  },
  {
   "cell_type": "code",
   "execution_count": 44,
   "metadata": {
    "colab": {
     "base_uri": "https://localhost:8080/",
     "height": 115,
     "referenced_widgets": [
      "e86ba90b82684d3c90f67588cd64643b",
      "8d12c05aba6f47caa5a1c86ec436e0ba",
      "269f2d6f9e0b42c389ed64477ae3dc83",
      "9fb7e663a30f41f0bc851e868161c5b4",
      "6e43a0806e4c4eb38ab62b2361abe6be",
      "4e8e0ba016724480a82ab70f30a9e10f",
      "fca15a7ab96c41699cd5f23a7359ce4b",
      "cc4a775d128f4815bc353a236d4508e9",
      "0388bd64e007493eabc1d072216f633e",
      "1dd36449818e41f586d02fcf421a0e4c",
      "822f31f24120440480cf328374c9efc9",
      "5ffd7a63f1944bbcbcb2a0983bd1e8f8",
      "55b95b0940874c139e017e22f679f9ec",
      "1b13617e6f2a4092afdcbfd4475f8902",
      "771782cb7c724127bd1dc1d1ccc7e6a4",
      "f87311766021481fb1c74d2059628159"
     ]
    },
    "colab_type": "code",
    "id": "fkvZGBDjYmbe",
    "outputId": "40278a5f-50d8-41ef-bcd8-85a05e79cd2c"
   },
   "outputs": [],
   "source": [
    "# Select pretrained model\n",
    "\n",
    "pretrained_model_name = 'bert-base-cased'\n",
    "bert_model = BertModel.from_pretrained(pretrained_model_name)"
   ]
  },
  {
   "cell_type": "code",
   "execution_count": 45,
   "metadata": {
    "colab": {
     "base_uri": "https://localhost:8080/",
     "height": 34
    },
    "colab_type": "code",
    "id": "m9HTOXXKY8KF",
    "outputId": "87773a55-068c-4f16-826c-560c53f8e627"
   },
   "outputs": [
    {
     "data": {
      "text/plain": [
       "torch.Size([1, 140, 768])"
      ]
     },
     "execution_count": 45,
     "metadata": {},
     "output_type": "execute_result"
    }
   ],
   "source": [
    "last_hidden_state, pooled_output = bert_model(\n",
    "    input_ids = encoding['input_ids'],\n",
    "    attention_mask = encoding['attention_mask']\n",
    ")\n",
    "\n",
    "last_hidden_state.shape"
   ]
  },
  {
   "cell_type": "code",
   "execution_count": 46,
   "metadata": {
    "colab": {
     "base_uri": "https://localhost:8080/",
     "height": 34
    },
    "colab_type": "code",
    "id": "kRZ68K-UQaRd",
    "outputId": "d5899365-a61d-4d73-c75c-059c70253b53"
   },
   "outputs": [
    {
     "data": {
      "text/plain": [
       "torch.Size([1, 768])"
      ]
     },
     "execution_count": 46,
     "metadata": {},
     "output_type": "execute_result"
    }
   ],
   "source": [
    "pooled_output.shape"
   ]
  },
  {
   "cell_type": "code",
   "execution_count": 47,
   "metadata": {
    "colab": {},
    "colab_type": "code",
    "id": "bVsrCJqBZPkN"
   },
   "outputs": [],
   "source": [
    "# Building Sentiment Classifier\n",
    "\n",
    "class SentimentClassifier(nn.Module):\n",
    "\n",
    "  def __init__(self, n_classes):\n",
    "    super(SentimentClassifier, self).__init__()\n",
    "    self.bert = BertModel.from_pretrained(pretrained_model_name)\n",
    "    self.drop = nn.Dropout(p = 0.3)\n",
    "    self.out = nn.Linear(self.bert.config.hidden_size, 2)\n",
    "    self.softmax = nn.Softmax(dim=1)\n",
    "\n",
    "  def forward(self, input_ids, attention_mask):\n",
    "    _, pooled_output = self.bert(\n",
    "      input_ids = input_ids,\n",
    "      attention_mask = attention_mask\n",
    "    )\n",
    "\n",
    "    output = self.drop(pooled_output)\n",
    "    output = self.out(output)\n",
    "    return self.softmax(output)"
   ]
  },
  {
   "cell_type": "code",
   "execution_count": 48,
   "metadata": {
    "colab": {},
    "colab_type": "code",
    "id": "yBN0_QueZ3aQ"
   },
   "outputs": [],
   "source": [
    "# Create model object with length 2 and transfer model to nvidia GPU\n",
    "\n",
    "model = SentimentClassifier(2)\n",
    "model = model.to(device)"
   ]
  },
  {
   "cell_type": "code",
   "execution_count": 49,
   "metadata": {
    "colab": {
     "base_uri": "https://localhost:8080/",
     "height": 51
    },
    "colab_type": "code",
    "id": "1p-ieaoLfD9j",
    "outputId": "ddf02a1f-2d90-4d8f-b84c-1dd09c45a071"
   },
   "outputs": [
    {
     "name": "stdout",
     "output_type": "stream",
     "text": [
      "torch.Size([8, 140])\n",
      "torch.Size([8, 140])\n"
     ]
    }
   ],
   "source": [
    "# Transfer input ids and attention mask to GPU\n",
    "\n",
    "input_ids = data['input_ids'].to(device)\n",
    "attention_mask = data['attention_mask'].to(device)\n",
    "\n",
    "print(input_ids.shape)\n",
    "print(attention_mask.shape)"
   ]
  },
  {
   "cell_type": "code",
   "execution_count": 50,
   "metadata": {
    "colab": {
     "base_uri": "https://localhost:8080/",
     "height": 561
    },
    "colab_type": "code",
    "id": "qSWLqvWiFRWc",
    "outputId": "a6a0fde2-8bcb-451b-f276-fd1f90ef1c26"
   },
   "outputs": [
    {
     "data": {
      "text/plain": [
       "tensor([[0.4064, 0.5936],\n",
       "        [0.3523, 0.6477],\n",
       "        [0.2843, 0.7157],\n",
       "        [0.4444, 0.5556],\n",
       "        [0.3757, 0.6243],\n",
       "        [0.4179, 0.5821],\n",
       "        [0.3122, 0.6878],\n",
       "        [0.4703, 0.5297]], device='cuda:0', grad_fn=<SoftmaxBackward>)"
      ]
     },
     "execution_count": 50,
     "metadata": {},
     "output_type": "execute_result"
    }
   ],
   "source": [
    "model(input_ids, attention_mask)"
   ]
  },
  {
   "cell_type": "code",
   "execution_count": 51,
   "metadata": {
    "colab": {},
    "colab_type": "code",
    "id": "1Mg95KIEf7Hc"
   },
   "outputs": [],
   "source": [
    "# Using AdamW Optimizer\n",
    "# Using paper values learning rate = 0.00002 and not correcting bias\n",
    "\n",
    "optimizer = transformers.AdamW(model.parameters(), lr = 2e-5, correct_bias = False)\n",
    "\n",
    "total_steps = len(train_data_loader) * EPOCHS\n",
    "\n",
    "scheduler = get_linear_schedule_with_warmup(\n",
    "    optimizer,\n",
    "    num_warmup_steps = 0,\n",
    "    num_training_steps = total_steps\n",
    ")\n",
    "\n",
    "loss_fn = nn.CrossEntropyLoss().to(device)"
   ]
  },
  {
   "cell_type": "code",
   "execution_count": 52,
   "metadata": {
    "colab": {},
    "colab_type": "code",
    "id": "FjOqpsbliAGA"
   },
   "outputs": [],
   "source": [
    "# Define Helper Function\n",
    "\n",
    "def train_epoch(\n",
    "    model,\n",
    "    data_loader,\n",
    "    loss_fn,\n",
    "    optimizer,\n",
    "    device,\n",
    "    scheduler,\n",
    "    n_examples\n",
    "):\n",
    "\n",
    "  model = model.train()\n",
    "\n",
    "  losses = []\n",
    "  correct_predictions = 0\n",
    "\n",
    "  for d in data_loader:\n",
    "    input_ids = d['input_ids'].to(device)\n",
    "    attention_mask = d['attention_mask'].to(device)\n",
    "    targets = d['targets'].to(device)\n",
    "\n",
    "    outputs = model(\n",
    "        input_ids = input_ids,\n",
    "        attention_mask = attention_mask\n",
    "    )\n",
    "\n",
    "    _, pred = torch.max(outputs, dim=1)\n",
    "    loss = loss_fn(outputs, targets)\n",
    "\n",
    "    correct_predictions += torch.sum(pred == targets)\n",
    "    losses.append(loss.item())\n",
    "\n",
    "    loss.backward()\n",
    "    nn.utils.clip_grad_norm_(model.parameters(), max_norm = 1.0)\n",
    "    optimizer.step()\n",
    "    scheduler.step()\n",
    "    optimizer.zero_grad()\n",
    "\n",
    "  return correct_predictions.double() / n_examples, np.mean(losses)\n"
   ]
  },
  {
   "cell_type": "code",
   "execution_count": 53,
   "metadata": {
    "colab": {},
    "colab_type": "code",
    "id": "vXHZLdCAkuaF"
   },
   "outputs": [],
   "source": [
    "def eval_model(model, data_loader, loss_fn, device, n_examples):\n",
    "  model = model.eval()\n",
    "\n",
    "  losses = []\n",
    "  correct_predictions = 0\n",
    "\n",
    "  with torch.no_grad():\n",
    "    for d in data_loader:\n",
    "      input_ids = d['input_ids'].to(device)\n",
    "      attention_mask = d['attention_mask'].to(device)\n",
    "      targets = d['targets'].to(device)\n",
    "\n",
    "      outputs = model(\n",
    "        input_ids = input_ids,\n",
    "        attention_mask = attention_mask\n",
    "      )\n",
    "\n",
    "      _, preds = torch.max(outputs, dim=1)\n",
    "      loss = loss_fn(outputs, targets)\n",
    "\n",
    "      correct_predictions += torch.sum(preds == targets)\n",
    "      losses.append(loss.item())\n",
    "  \n",
    "  return correct_predictions.double() / n_examples, np.mean(losses)"
   ]
  },
  {
   "cell_type": "code",
   "execution_count": 34,
   "metadata": {
    "colab": {
     "base_uri": "https://localhost:8080/",
     "height": 1000
    },
    "colab_type": "code",
    "id": "1P3CvC4jlWta",
    "outputId": "8a269885-c044-4363-e9ce-5c48f11e7546"
   },
   "outputs": [
    {
     "name": "stdout",
     "output_type": "stream",
     "text": [
      "Epoch 1 / 10\n",
      "----------\n",
      "Train loss 0.5088364473022521 accuracy 0.798578125\n",
      "Val loss 0.49937918430566786 accuracy 0.809125\n",
      "\n"
     ]
    },
    {
     "name": "stderr",
     "output_type": "stream",
     "text": [
      "C:\\ProgramData\\Anaconda3\\lib\\site-packages\\torch\\serialization.py:402: UserWarning: Couldn't retrieve source code for container of type SentimentClassifier. It won't be checked for correctness upon loading.\n",
      "  \"type \" + obj.__name__ + \". It won't be checked \"\n"
     ]
    },
    {
     "name": "stdout",
     "output_type": "stream",
     "text": [
      "Epoch 2 / 10\n",
      "----------\n",
      "Train loss 0.4780398559123278 accuracy 0.8324375\n",
      "Val loss 0.5018568460941315 accuracy 0.808125\n",
      "\n",
      "Epoch 3 / 10\n",
      "----------\n",
      "Train loss 0.46497893185913564 accuracy 0.8465625\n",
      "Val loss 0.5071630622744561 accuracy 0.803125\n",
      "\n",
      "Epoch 4 / 10\n",
      "----------\n",
      "Train loss 0.45614500588551166 accuracy 0.855671875\n",
      "Val loss 0.5025268984735012 accuracy 0.808875\n",
      "\n",
      "Epoch 5 / 10\n",
      "----------\n",
      "Train loss 0.4515520079024136 accuracy 0.860546875\n",
      "Val loss 0.4992877152562141 accuracy 0.813125\n",
      "\n",
      "Epoch 6 / 10\n",
      "----------\n",
      "Train loss 0.44527706173062326 accuracy 0.8669687500000001\n",
      "Val loss 0.502481094032526 accuracy 0.809\n",
      "\n",
      "Epoch 7 / 10\n",
      "----------\n",
      "Train loss 0.44074203726649286 accuracy 0.871796875\n",
      "Val loss 0.501567352950573 accuracy 0.810875\n",
      "\n",
      "Epoch 8 / 10\n",
      "----------\n",
      "Train loss 0.43110237485170366 accuracy 0.88153125\n",
      "Val loss 0.4950049730539322 accuracy 0.81575\n",
      "\n",
      "Epoch 9 / 10\n",
      "----------\n",
      "Train loss 0.42648462515324354 accuracy 0.886203125\n",
      "Val loss 0.5054766044020653 accuracy 0.805125\n",
      "\n",
      "Epoch 10 / 10\n",
      "----------\n",
      "Train loss 0.4244859441109002 accuracy 0.888171875\n",
      "Val loss 0.4964141429960728 accuracy 0.81625\n",
      "\n"
     ]
    }
   ],
   "source": [
    "history = defaultdict(list)\n",
    "best_accuracy = 0\n",
    "\n",
    "for epoch in range(EPOCHS):\n",
    "\n",
    "  print(f'Epoch {epoch + 1} / {EPOCHS}')\n",
    "  print('-' * 10)\n",
    "\n",
    "  train_acc, train_loss = train_epoch(\n",
    "      model,\n",
    "      train_data_loader,\n",
    "      loss_fn,\n",
    "      optimizer,\n",
    "      device,\n",
    "      scheduler,\n",
    "      len(df_train)\n",
    "  )\n",
    "\n",
    "  print(f'Train loss {train_loss} accuracy {train_acc}')\n",
    "\n",
    "  val_acc, val_loss = eval_model(\n",
    "      model,\n",
    "      val_data_loader,\n",
    "      loss_fn,\n",
    "      device,\n",
    "      len(df_val)\n",
    "  )\n",
    "\n",
    "  print(f'Val loss {val_loss} accuracy {val_acc}')\n",
    "  print()\n",
    "\n",
    "  history['train_acc'].append(train_acc)\n",
    "  history['train_loss'].append(train_loss)\n",
    "\n",
    "  history['val_acc'].append(val_acc)\n",
    "  history['val_loss'].append(val_loss)\n",
    "\n",
    "  if val_acc > best_accuracy:\n",
    "    torch.save(model, 'model.pth')\n",
    "    best_accuracy = val_acc\n",
    "\n"
   ]
  },
  {
   "cell_type": "code",
   "execution_count": 54,
   "metadata": {
    "colab": {},
    "colab_type": "code",
    "id": "FrsdjxqBnpVs"
   },
   "outputs": [],
   "source": [
    "# Loading Model Checkpoint\n",
    "\n",
    "model = SentimentClassifier(2)\n",
    "model = torch.load('model.pth', map_location=torch.device('cpu'))\n",
    "model = model.to(device)"
   ]
  },
  {
   "cell_type": "code",
   "execution_count": 55,
   "metadata": {
    "colab": {},
    "colab_type": "code",
    "id": "PEAd8-zGhlpu"
   },
   "outputs": [],
   "source": [
    "def get_tweet(model, data_loader):\n",
    "  model = model.eval()\n",
    "\n",
    "  tweet_texts = []\n",
    "  predictions = []\n",
    "  predictions_probs = []\n",
    "  real_values = []\n",
    "\n",
    "  with torch.no_grad():\n",
    "    for d in data_loader:\n",
    "\n",
    "      tweets = d['tweet_text']\n",
    "      input_ids = d['input_ids'].to(device)\n",
    "      attention_mask = d['attention_mask'].to(device)\n",
    "      targets = d['targets'].to(device)\n",
    "\n",
    "      outputs = model(\n",
    "        input_ids = input_ids,\n",
    "        attention_mask = attention_mask\n",
    "      )\n",
    "\n",
    "      _, preds = torch.max(outputs, dim=1)\n",
    "\n",
    "      tweet_texts.extend(tweets)\n",
    "      predictions.extend(preds)\n",
    "      predictions_probs.extend(outputs)\n",
    "      real_values.extend(targets)\n",
    "\n",
    "  predictions = torch.stack(predictions).cpu()\n",
    "  predicitons_probs = torch.stack(predictions_probs).cpu()\n",
    "  real_values = torch.stack(real_values).cpu()\n",
    "\n",
    "  return tweet_texts, predictions, predictions_probs, real_values"
   ]
  },
  {
   "cell_type": "code",
   "execution_count": 56,
   "metadata": {
    "colab": {},
    "colab_type": "code",
    "id": "ZF-sCoIxyG3h"
   },
   "outputs": [],
   "source": [
    "test_acc, test_loss = eval_model(model, test_data_loader, loss_fn, device, len(df_test))"
   ]
  },
  {
   "cell_type": "code",
   "execution_count": 57,
   "metadata": {
    "colab": {
     "base_uri": "https://localhost:8080/",
     "height": 34
    },
    "colab_type": "code",
    "id": "kPbI0Sx-zGGX",
    "outputId": "2f65aa49-4a3a-46a9-e77c-6aeba746e504"
   },
   "outputs": [
    {
     "data": {
      "text/plain": [
       "tensor(0.8205, device='cuda:0', dtype=torch.float64)"
      ]
     },
     "execution_count": 57,
     "metadata": {},
     "output_type": "execute_result"
    }
   ],
   "source": [
    "test_acc"
   ]
  },
  {
   "cell_type": "code",
   "execution_count": 58,
   "metadata": {},
   "outputs": [
    {
     "data": {
      "text/plain": [
       "0.4924976945817471"
      ]
     },
     "execution_count": 58,
     "metadata": {},
     "output_type": "execute_result"
    }
   ],
   "source": [
    "test_loss"
   ]
  },
  {
   "cell_type": "code",
   "execution_count": 1,
   "metadata": {
    "colab": {},
    "colab_type": "code",
    "id": "8hn6rQmC1oIV"
   },
   "outputs": [
    {
     "ename": "NameError",
     "evalue": "name 'get_tweet' is not defined",
     "output_type": "error",
     "traceback": [
      "\u001b[1;31m---------------------------------------------------------------------------\u001b[0m",
      "\u001b[1;31mNameError\u001b[0m                                 Traceback (most recent call last)",
      "\u001b[1;32m<ipython-input-1-3fa14b0ab292>\u001b[0m in \u001b[0;36m<module>\u001b[1;34m\u001b[0m\n\u001b[1;32m----> 1\u001b[1;33m \u001b[0my_review_tests\u001b[0m\u001b[1;33m,\u001b[0m \u001b[0my_pred\u001b[0m\u001b[1;33m,\u001b[0m \u001b[0my_pred_probs\u001b[0m\u001b[1;33m,\u001b[0m \u001b[0my_test\u001b[0m \u001b[1;33m=\u001b[0m \u001b[0mget_tweet\u001b[0m\u001b[1;33m(\u001b[0m\u001b[0mmodel\u001b[0m\u001b[1;33m,\u001b[0m \u001b[0mtest_data_loader\u001b[0m\u001b[1;33m)\u001b[0m\u001b[1;33m\u001b[0m\u001b[1;33m\u001b[0m\u001b[0m\n\u001b[0m",
      "\u001b[1;31mNameError\u001b[0m: name 'get_tweet' is not defined"
     ]
    }
   ],
   "source": [
    "y_review_tests, y_pred, y_pred_probs, y_test = get_tweet(model, test_data_loader)"
   ]
  },
  {
   "cell_type": "code",
   "execution_count": 2,
   "metadata": {},
   "outputs": [
    {
     "ename": "NameError",
     "evalue": "name 'classification_report' is not defined",
     "output_type": "error",
     "traceback": [
      "\u001b[1;31m---------------------------------------------------------------------------\u001b[0m",
      "\u001b[1;31mNameError\u001b[0m                                 Traceback (most recent call last)",
      "\u001b[1;32m<ipython-input-2-24dbd1dd7943>\u001b[0m in \u001b[0;36m<module>\u001b[1;34m\u001b[0m\n\u001b[1;32m----> 1\u001b[1;33m \u001b[0mprint\u001b[0m\u001b[1;33m(\u001b[0m\u001b[0mclassification_report\u001b[0m\u001b[1;33m(\u001b[0m\u001b[0my_test\u001b[0m\u001b[1;33m,\u001b[0m \u001b[0my_pred\u001b[0m\u001b[1;33m,\u001b[0m \u001b[0mtarget_names\u001b[0m \u001b[1;33m=\u001b[0m \u001b[0mclass_names\u001b[0m\u001b[1;33m)\u001b[0m\u001b[1;33m)\u001b[0m\u001b[1;33m\u001b[0m\u001b[1;33m\u001b[0m\u001b[0m\n\u001b[0m",
      "\u001b[1;31mNameError\u001b[0m: name 'classification_report' is not defined"
     ]
    }
   ],
   "source": [
    "print(classification_report(y_test, y_pred, target_names = class_names))"
   ]
  },
  {
   "cell_type": "code",
   "execution_count": null,
   "metadata": {},
   "outputs": [],
   "source": [
    "cm = confusion_matrix(y_test, y_pred)\n",
    "df_cm = pd.DataFrame(cm, index=class_names, columns=class_names)\n",
    "\n",
    "hmap = sns.heatmap(df_cm, annot=True, fmt=\"d\", cmap=\"Blues\")\n",
    "hmap.yaxis.set_ticklabels(hmap.yaxis.get_ticklabels(), rotation=0, ha='right')\n",
    "hmap.xaxis.set_ticklabels(hmap.xaxis.get_ticklabels(), rotation=30, ha='right')\n",
    "plt.title('Test Confusion Matrix')\n",
    "plt.ylabel('True Sentiment')\n",
    "plt.xlabel('Predicted Sentiment');"
   ]
  },
  {
   "cell_type": "code",
   "execution_count": null,
   "metadata": {},
   "outputs": [],
   "source": [
    "self_tweets = pd.read_csv('stimulus_tweets.csv', encoding = 'unicode_escape')"
   ]
  },
  {
   "cell_type": "code",
   "execution_count": null,
   "metadata": {},
   "outputs": [],
   "source": [
    "selftweet_dataloader = create_data_loader(self_tweets ,bert_tokenizer,MAX_LEN,BATCH_SIZE)\n",
    "\n",
    "next(iter(selftweet_dataloader))"
   ]
  },
  {
   "cell_type": "code",
   "execution_count": null,
   "metadata": {},
   "outputs": [],
   "source": [
    "self_tweet = get_tweet(model, selftweet_dataloader)"
   ]
  },
  {
   "cell_type": "code",
   "execution_count": null,
   "metadata": {},
   "outputs": [],
   "source": [
    "self_test_acc, self_test_loss = eval_model(model, selftweet_dataloader, loss_fn, device, len(self_tweets))"
   ]
  },
  {
   "cell_type": "code",
   "execution_count": null,
   "metadata": {},
   "outputs": [],
   "source": [
    "self_test_acc"
   ]
  },
  {
   "cell_type": "code",
   "execution_count": 83,
   "metadata": {},
   "outputs": [
    {
     "name": "stdout",
     "output_type": "stream",
     "text": [
      "p-value: 0.0000\n"
     ]
    }
   ],
   "source": [
    "p_val = '0.0000'\n",
    "print('p-value: 0.0000')"
   ]
  },
  {
   "cell_type": "code",
   "execution_count": 86,
   "metadata": {},
   "outputs": [
    {
     "name": "stdout",
     "output_type": "stream",
     "text": [
      "p value:0.0000\n"
     ]
    }
   ],
   "source": [
    "print('p value:' + p_val)"
   ]
  },
  {
   "cell_type": "code",
   "execution_count": null,
   "metadata": {},
   "outputs": [],
   "source": []
  }
 ],
 "metadata": {
  "colab": {
   "collapsed_sections": [],
   "name": "NLP Project.ipynb",
   "provenance": [],
   "toc_visible": true
  },
  "kernelspec": {
   "display_name": "Python 3",
   "language": "python",
   "name": "python3"
  },
  "language_info": {
   "codemirror_mode": {
    "name": "ipython",
    "version": 3
   },
   "file_extension": ".py",
   "mimetype": "text/x-python",
   "name": "python",
   "nbconvert_exporter": "python",
   "pygments_lexer": "ipython3",
   "version": "3.7.3"
  },
  "widgets": {
   "application/vnd.jupyter.widget-state+json": {
    "0388bd64e007493eabc1d072216f633e": {
     "model_module": "@jupyter-widgets/controls",
     "model_name": "HBoxModel",
     "state": {
      "_dom_classes": [],
      "_model_module": "@jupyter-widgets/controls",
      "_model_module_version": "1.5.0",
      "_model_name": "HBoxModel",
      "_view_count": null,
      "_view_module": "@jupyter-widgets/controls",
      "_view_module_version": "1.5.0",
      "_view_name": "HBoxView",
      "box_style": "",
      "children": [
       "IPY_MODEL_822f31f24120440480cf328374c9efc9",
       "IPY_MODEL_5ffd7a63f1944bbcbcb2a0983bd1e8f8"
      ],
      "layout": "IPY_MODEL_1dd36449818e41f586d02fcf421a0e4c"
     }
    },
    "1b13617e6f2a4092afdcbfd4475f8902": {
     "model_module": "@jupyter-widgets/base",
     "model_name": "LayoutModel",
     "state": {
      "_model_module": "@jupyter-widgets/base",
      "_model_module_version": "1.2.0",
      "_model_name": "LayoutModel",
      "_view_count": null,
      "_view_module": "@jupyter-widgets/base",
      "_view_module_version": "1.2.0",
      "_view_name": "LayoutView",
      "align_content": null,
      "align_items": null,
      "align_self": null,
      "border": null,
      "bottom": null,
      "display": null,
      "flex": null,
      "flex_flow": null,
      "grid_area": null,
      "grid_auto_columns": null,
      "grid_auto_flow": null,
      "grid_auto_rows": null,
      "grid_column": null,
      "grid_gap": null,
      "grid_row": null,
      "grid_template_areas": null,
      "grid_template_columns": null,
      "grid_template_rows": null,
      "height": null,
      "justify_content": null,
      "justify_items": null,
      "left": null,
      "margin": null,
      "max_height": null,
      "max_width": null,
      "min_height": null,
      "min_width": null,
      "object_fit": null,
      "object_position": null,
      "order": null,
      "overflow": null,
      "overflow_x": null,
      "overflow_y": null,
      "padding": null,
      "right": null,
      "top": null,
      "visibility": null,
      "width": null
     }
    },
    "1dd36449818e41f586d02fcf421a0e4c": {
     "model_module": "@jupyter-widgets/base",
     "model_name": "LayoutModel",
     "state": {
      "_model_module": "@jupyter-widgets/base",
      "_model_module_version": "1.2.0",
      "_model_name": "LayoutModel",
      "_view_count": null,
      "_view_module": "@jupyter-widgets/base",
      "_view_module_version": "1.2.0",
      "_view_name": "LayoutView",
      "align_content": null,
      "align_items": null,
      "align_self": null,
      "border": null,
      "bottom": null,
      "display": null,
      "flex": null,
      "flex_flow": null,
      "grid_area": null,
      "grid_auto_columns": null,
      "grid_auto_flow": null,
      "grid_auto_rows": null,
      "grid_column": null,
      "grid_gap": null,
      "grid_row": null,
      "grid_template_areas": null,
      "grid_template_columns": null,
      "grid_template_rows": null,
      "height": null,
      "justify_content": null,
      "justify_items": null,
      "left": null,
      "margin": null,
      "max_height": null,
      "max_width": null,
      "min_height": null,
      "min_width": null,
      "object_fit": null,
      "object_position": null,
      "order": null,
      "overflow": null,
      "overflow_x": null,
      "overflow_y": null,
      "padding": null,
      "right": null,
      "top": null,
      "visibility": null,
      "width": null
     }
    },
    "269f2d6f9e0b42c389ed64477ae3dc83": {
     "model_module": "@jupyter-widgets/controls",
     "model_name": "FloatProgressModel",
     "state": {
      "_dom_classes": [],
      "_model_module": "@jupyter-widgets/controls",
      "_model_module_version": "1.5.0",
      "_model_name": "FloatProgressModel",
      "_view_count": null,
      "_view_module": "@jupyter-widgets/controls",
      "_view_module_version": "1.5.0",
      "_view_name": "ProgressView",
      "bar_style": "success",
      "description": "Downloading: 100%",
      "description_tooltip": null,
      "layout": "IPY_MODEL_4e8e0ba016724480a82ab70f30a9e10f",
      "max": 433,
      "min": 0,
      "orientation": "horizontal",
      "style": "IPY_MODEL_6e43a0806e4c4eb38ab62b2361abe6be",
      "value": 433
     }
    },
    "29596f2f59ee4152b50148892b0abece": {
     "model_module": "@jupyter-widgets/controls",
     "model_name": "DescriptionStyleModel",
     "state": {
      "_model_module": "@jupyter-widgets/controls",
      "_model_module_version": "1.5.0",
      "_model_name": "DescriptionStyleModel",
      "_view_count": null,
      "_view_module": "@jupyter-widgets/base",
      "_view_module_version": "1.2.0",
      "_view_name": "StyleView",
      "description_width": ""
     }
    },
    "4170bb0c07184187bd4bf1bef4a6fc06": {
     "model_module": "@jupyter-widgets/base",
     "model_name": "LayoutModel",
     "state": {
      "_model_module": "@jupyter-widgets/base",
      "_model_module_version": "1.2.0",
      "_model_name": "LayoutModel",
      "_view_count": null,
      "_view_module": "@jupyter-widgets/base",
      "_view_module_version": "1.2.0",
      "_view_name": "LayoutView",
      "align_content": null,
      "align_items": null,
      "align_self": null,
      "border": null,
      "bottom": null,
      "display": null,
      "flex": null,
      "flex_flow": null,
      "grid_area": null,
      "grid_auto_columns": null,
      "grid_auto_flow": null,
      "grid_auto_rows": null,
      "grid_column": null,
      "grid_gap": null,
      "grid_row": null,
      "grid_template_areas": null,
      "grid_template_columns": null,
      "grid_template_rows": null,
      "height": null,
      "justify_content": null,
      "justify_items": null,
      "left": null,
      "margin": null,
      "max_height": null,
      "max_width": null,
      "min_height": null,
      "min_width": null,
      "object_fit": null,
      "object_position": null,
      "order": null,
      "overflow": null,
      "overflow_x": null,
      "overflow_y": null,
      "padding": null,
      "right": null,
      "top": null,
      "visibility": null,
      "width": null
     }
    },
    "4e8e0ba016724480a82ab70f30a9e10f": {
     "model_module": "@jupyter-widgets/base",
     "model_name": "LayoutModel",
     "state": {
      "_model_module": "@jupyter-widgets/base",
      "_model_module_version": "1.2.0",
      "_model_name": "LayoutModel",
      "_view_count": null,
      "_view_module": "@jupyter-widgets/base",
      "_view_module_version": "1.2.0",
      "_view_name": "LayoutView",
      "align_content": null,
      "align_items": null,
      "align_self": null,
      "border": null,
      "bottom": null,
      "display": null,
      "flex": null,
      "flex_flow": null,
      "grid_area": null,
      "grid_auto_columns": null,
      "grid_auto_flow": null,
      "grid_auto_rows": null,
      "grid_column": null,
      "grid_gap": null,
      "grid_row": null,
      "grid_template_areas": null,
      "grid_template_columns": null,
      "grid_template_rows": null,
      "height": null,
      "justify_content": null,
      "justify_items": null,
      "left": null,
      "margin": null,
      "max_height": null,
      "max_width": null,
      "min_height": null,
      "min_width": null,
      "object_fit": null,
      "object_position": null,
      "order": null,
      "overflow": null,
      "overflow_x": null,
      "overflow_y": null,
      "padding": null,
      "right": null,
      "top": null,
      "visibility": null,
      "width": null
     }
    },
    "55b95b0940874c139e017e22f679f9ec": {
     "model_module": "@jupyter-widgets/controls",
     "model_name": "ProgressStyleModel",
     "state": {
      "_model_module": "@jupyter-widgets/controls",
      "_model_module_version": "1.5.0",
      "_model_name": "ProgressStyleModel",
      "_view_count": null,
      "_view_module": "@jupyter-widgets/base",
      "_view_module_version": "1.2.0",
      "_view_name": "StyleView",
      "bar_color": null,
      "description_width": "initial"
     }
    },
    "5ffd7a63f1944bbcbcb2a0983bd1e8f8": {
     "model_module": "@jupyter-widgets/controls",
     "model_name": "HTMLModel",
     "state": {
      "_dom_classes": [],
      "_model_module": "@jupyter-widgets/controls",
      "_model_module_version": "1.5.0",
      "_model_name": "HTMLModel",
      "_view_count": null,
      "_view_module": "@jupyter-widgets/controls",
      "_view_module_version": "1.5.0",
      "_view_name": "HTMLView",
      "description": "",
      "description_tooltip": null,
      "layout": "IPY_MODEL_f87311766021481fb1c74d2059628159",
      "placeholder": "​",
      "style": "IPY_MODEL_771782cb7c724127bd1dc1d1ccc7e6a4",
      "value": " 436M/436M [00:07&lt;00:00, 56.7MB/s]"
     }
    },
    "6919940cd6dd431894aef467c981996a": {
     "model_module": "@jupyter-widgets/controls",
     "model_name": "HBoxModel",
     "state": {
      "_dom_classes": [],
      "_model_module": "@jupyter-widgets/controls",
      "_model_module_version": "1.5.0",
      "_model_name": "HBoxModel",
      "_view_count": null,
      "_view_module": "@jupyter-widgets/controls",
      "_view_module_version": "1.5.0",
      "_view_name": "HBoxView",
      "box_style": "",
      "children": [
       "IPY_MODEL_a19fd66a5699444bba5b8c6be18b2de7",
       "IPY_MODEL_7932633a4e55465fa4d78efdd92d3e85"
      ],
      "layout": "IPY_MODEL_8be15a3b92af4daa823ab6b22000406f"
     }
    },
    "6e43a0806e4c4eb38ab62b2361abe6be": {
     "model_module": "@jupyter-widgets/controls",
     "model_name": "ProgressStyleModel",
     "state": {
      "_model_module": "@jupyter-widgets/controls",
      "_model_module_version": "1.5.0",
      "_model_name": "ProgressStyleModel",
      "_view_count": null,
      "_view_module": "@jupyter-widgets/base",
      "_view_module_version": "1.2.0",
      "_view_name": "StyleView",
      "bar_color": null,
      "description_width": "initial"
     }
    },
    "771782cb7c724127bd1dc1d1ccc7e6a4": {
     "model_module": "@jupyter-widgets/controls",
     "model_name": "DescriptionStyleModel",
     "state": {
      "_model_module": "@jupyter-widgets/controls",
      "_model_module_version": "1.5.0",
      "_model_name": "DescriptionStyleModel",
      "_view_count": null,
      "_view_module": "@jupyter-widgets/base",
      "_view_module_version": "1.2.0",
      "_view_name": "StyleView",
      "description_width": ""
     }
    },
    "7932633a4e55465fa4d78efdd92d3e85": {
     "model_module": "@jupyter-widgets/controls",
     "model_name": "HTMLModel",
     "state": {
      "_dom_classes": [],
      "_model_module": "@jupyter-widgets/controls",
      "_model_module_version": "1.5.0",
      "_model_name": "HTMLModel",
      "_view_count": null,
      "_view_module": "@jupyter-widgets/controls",
      "_view_module_version": "1.5.0",
      "_view_name": "HTMLView",
      "description": "",
      "description_tooltip": null,
      "layout": "IPY_MODEL_4170bb0c07184187bd4bf1bef4a6fc06",
      "placeholder": "​",
      "style": "IPY_MODEL_29596f2f59ee4152b50148892b0abece",
      "value": " 213k/213k [00:00&lt;00:00, 1.45MB/s]"
     }
    },
    "822f31f24120440480cf328374c9efc9": {
     "model_module": "@jupyter-widgets/controls",
     "model_name": "FloatProgressModel",
     "state": {
      "_dom_classes": [],
      "_model_module": "@jupyter-widgets/controls",
      "_model_module_version": "1.5.0",
      "_model_name": "FloatProgressModel",
      "_view_count": null,
      "_view_module": "@jupyter-widgets/controls",
      "_view_module_version": "1.5.0",
      "_view_name": "ProgressView",
      "bar_style": "success",
      "description": "Downloading: 100%",
      "description_tooltip": null,
      "layout": "IPY_MODEL_1b13617e6f2a4092afdcbfd4475f8902",
      "max": 435779157,
      "min": 0,
      "orientation": "horizontal",
      "style": "IPY_MODEL_55b95b0940874c139e017e22f679f9ec",
      "value": 435779157
     }
    },
    "8be15a3b92af4daa823ab6b22000406f": {
     "model_module": "@jupyter-widgets/base",
     "model_name": "LayoutModel",
     "state": {
      "_model_module": "@jupyter-widgets/base",
      "_model_module_version": "1.2.0",
      "_model_name": "LayoutModel",
      "_view_count": null,
      "_view_module": "@jupyter-widgets/base",
      "_view_module_version": "1.2.0",
      "_view_name": "LayoutView",
      "align_content": null,
      "align_items": null,
      "align_self": null,
      "border": null,
      "bottom": null,
      "display": null,
      "flex": null,
      "flex_flow": null,
      "grid_area": null,
      "grid_auto_columns": null,
      "grid_auto_flow": null,
      "grid_auto_rows": null,
      "grid_column": null,
      "grid_gap": null,
      "grid_row": null,
      "grid_template_areas": null,
      "grid_template_columns": null,
      "grid_template_rows": null,
      "height": null,
      "justify_content": null,
      "justify_items": null,
      "left": null,
      "margin": null,
      "max_height": null,
      "max_width": null,
      "min_height": null,
      "min_width": null,
      "object_fit": null,
      "object_position": null,
      "order": null,
      "overflow": null,
      "overflow_x": null,
      "overflow_y": null,
      "padding": null,
      "right": null,
      "top": null,
      "visibility": null,
      "width": null
     }
    },
    "8d12c05aba6f47caa5a1c86ec436e0ba": {
     "model_module": "@jupyter-widgets/base",
     "model_name": "LayoutModel",
     "state": {
      "_model_module": "@jupyter-widgets/base",
      "_model_module_version": "1.2.0",
      "_model_name": "LayoutModel",
      "_view_count": null,
      "_view_module": "@jupyter-widgets/base",
      "_view_module_version": "1.2.0",
      "_view_name": "LayoutView",
      "align_content": null,
      "align_items": null,
      "align_self": null,
      "border": null,
      "bottom": null,
      "display": null,
      "flex": null,
      "flex_flow": null,
      "grid_area": null,
      "grid_auto_columns": null,
      "grid_auto_flow": null,
      "grid_auto_rows": null,
      "grid_column": null,
      "grid_gap": null,
      "grid_row": null,
      "grid_template_areas": null,
      "grid_template_columns": null,
      "grid_template_rows": null,
      "height": null,
      "justify_content": null,
      "justify_items": null,
      "left": null,
      "margin": null,
      "max_height": null,
      "max_width": null,
      "min_height": null,
      "min_width": null,
      "object_fit": null,
      "object_position": null,
      "order": null,
      "overflow": null,
      "overflow_x": null,
      "overflow_y": null,
      "padding": null,
      "right": null,
      "top": null,
      "visibility": null,
      "width": null
     }
    },
    "9fb7e663a30f41f0bc851e868161c5b4": {
     "model_module": "@jupyter-widgets/controls",
     "model_name": "HTMLModel",
     "state": {
      "_dom_classes": [],
      "_model_module": "@jupyter-widgets/controls",
      "_model_module_version": "1.5.0",
      "_model_name": "HTMLModel",
      "_view_count": null,
      "_view_module": "@jupyter-widgets/controls",
      "_view_module_version": "1.5.0",
      "_view_name": "HTMLView",
      "description": "",
      "description_tooltip": null,
      "layout": "IPY_MODEL_cc4a775d128f4815bc353a236d4508e9",
      "placeholder": "​",
      "style": "IPY_MODEL_fca15a7ab96c41699cd5f23a7359ce4b",
      "value": " 433/433 [00:09&lt;00:00, 44.2B/s]"
     }
    },
    "a19fd66a5699444bba5b8c6be18b2de7": {
     "model_module": "@jupyter-widgets/controls",
     "model_name": "FloatProgressModel",
     "state": {
      "_dom_classes": [],
      "_model_module": "@jupyter-widgets/controls",
      "_model_module_version": "1.5.0",
      "_model_name": "FloatProgressModel",
      "_view_count": null,
      "_view_module": "@jupyter-widgets/controls",
      "_view_module_version": "1.5.0",
      "_view_name": "ProgressView",
      "bar_style": "success",
      "description": "Downloading: 100%",
      "description_tooltip": null,
      "layout": "IPY_MODEL_f050e603834e439cbaf2bce47da7233c",
      "max": 213450,
      "min": 0,
      "orientation": "horizontal",
      "style": "IPY_MODEL_b3d8eb309fb94219a02e24995e05b163",
      "value": 213450
     }
    },
    "b3d8eb309fb94219a02e24995e05b163": {
     "model_module": "@jupyter-widgets/controls",
     "model_name": "ProgressStyleModel",
     "state": {
      "_model_module": "@jupyter-widgets/controls",
      "_model_module_version": "1.5.0",
      "_model_name": "ProgressStyleModel",
      "_view_count": null,
      "_view_module": "@jupyter-widgets/base",
      "_view_module_version": "1.2.0",
      "_view_name": "StyleView",
      "bar_color": null,
      "description_width": "initial"
     }
    },
    "cc4a775d128f4815bc353a236d4508e9": {
     "model_module": "@jupyter-widgets/base",
     "model_name": "LayoutModel",
     "state": {
      "_model_module": "@jupyter-widgets/base",
      "_model_module_version": "1.2.0",
      "_model_name": "LayoutModel",
      "_view_count": null,
      "_view_module": "@jupyter-widgets/base",
      "_view_module_version": "1.2.0",
      "_view_name": "LayoutView",
      "align_content": null,
      "align_items": null,
      "align_self": null,
      "border": null,
      "bottom": null,
      "display": null,
      "flex": null,
      "flex_flow": null,
      "grid_area": null,
      "grid_auto_columns": null,
      "grid_auto_flow": null,
      "grid_auto_rows": null,
      "grid_column": null,
      "grid_gap": null,
      "grid_row": null,
      "grid_template_areas": null,
      "grid_template_columns": null,
      "grid_template_rows": null,
      "height": null,
      "justify_content": null,
      "justify_items": null,
      "left": null,
      "margin": null,
      "max_height": null,
      "max_width": null,
      "min_height": null,
      "min_width": null,
      "object_fit": null,
      "object_position": null,
      "order": null,
      "overflow": null,
      "overflow_x": null,
      "overflow_y": null,
      "padding": null,
      "right": null,
      "top": null,
      "visibility": null,
      "width": null
     }
    },
    "e86ba90b82684d3c90f67588cd64643b": {
     "model_module": "@jupyter-widgets/controls",
     "model_name": "HBoxModel",
     "state": {
      "_dom_classes": [],
      "_model_module": "@jupyter-widgets/controls",
      "_model_module_version": "1.5.0",
      "_model_name": "HBoxModel",
      "_view_count": null,
      "_view_module": "@jupyter-widgets/controls",
      "_view_module_version": "1.5.0",
      "_view_name": "HBoxView",
      "box_style": "",
      "children": [
       "IPY_MODEL_269f2d6f9e0b42c389ed64477ae3dc83",
       "IPY_MODEL_9fb7e663a30f41f0bc851e868161c5b4"
      ],
      "layout": "IPY_MODEL_8d12c05aba6f47caa5a1c86ec436e0ba"
     }
    },
    "f050e603834e439cbaf2bce47da7233c": {
     "model_module": "@jupyter-widgets/base",
     "model_name": "LayoutModel",
     "state": {
      "_model_module": "@jupyter-widgets/base",
      "_model_module_version": "1.2.0",
      "_model_name": "LayoutModel",
      "_view_count": null,
      "_view_module": "@jupyter-widgets/base",
      "_view_module_version": "1.2.0",
      "_view_name": "LayoutView",
      "align_content": null,
      "align_items": null,
      "align_self": null,
      "border": null,
      "bottom": null,
      "display": null,
      "flex": null,
      "flex_flow": null,
      "grid_area": null,
      "grid_auto_columns": null,
      "grid_auto_flow": null,
      "grid_auto_rows": null,
      "grid_column": null,
      "grid_gap": null,
      "grid_row": null,
      "grid_template_areas": null,
      "grid_template_columns": null,
      "grid_template_rows": null,
      "height": null,
      "justify_content": null,
      "justify_items": null,
      "left": null,
      "margin": null,
      "max_height": null,
      "max_width": null,
      "min_height": null,
      "min_width": null,
      "object_fit": null,
      "object_position": null,
      "order": null,
      "overflow": null,
      "overflow_x": null,
      "overflow_y": null,
      "padding": null,
      "right": null,
      "top": null,
      "visibility": null,
      "width": null
     }
    },
    "f87311766021481fb1c74d2059628159": {
     "model_module": "@jupyter-widgets/base",
     "model_name": "LayoutModel",
     "state": {
      "_model_module": "@jupyter-widgets/base",
      "_model_module_version": "1.2.0",
      "_model_name": "LayoutModel",
      "_view_count": null,
      "_view_module": "@jupyter-widgets/base",
      "_view_module_version": "1.2.0",
      "_view_name": "LayoutView",
      "align_content": null,
      "align_items": null,
      "align_self": null,
      "border": null,
      "bottom": null,
      "display": null,
      "flex": null,
      "flex_flow": null,
      "grid_area": null,
      "grid_auto_columns": null,
      "grid_auto_flow": null,
      "grid_auto_rows": null,
      "grid_column": null,
      "grid_gap": null,
      "grid_row": null,
      "grid_template_areas": null,
      "grid_template_columns": null,
      "grid_template_rows": null,
      "height": null,
      "justify_content": null,
      "justify_items": null,
      "left": null,
      "margin": null,
      "max_height": null,
      "max_width": null,
      "min_height": null,
      "min_width": null,
      "object_fit": null,
      "object_position": null,
      "order": null,
      "overflow": null,
      "overflow_x": null,
      "overflow_y": null,
      "padding": null,
      "right": null,
      "top": null,
      "visibility": null,
      "width": null
     }
    },
    "fca15a7ab96c41699cd5f23a7359ce4b": {
     "model_module": "@jupyter-widgets/controls",
     "model_name": "DescriptionStyleModel",
     "state": {
      "_model_module": "@jupyter-widgets/controls",
      "_model_module_version": "1.5.0",
      "_model_name": "DescriptionStyleModel",
      "_view_count": null,
      "_view_module": "@jupyter-widgets/base",
      "_view_module_version": "1.2.0",
      "_view_name": "StyleView",
      "description_width": ""
     }
    }
   }
  }
 },
 "nbformat": 4,
 "nbformat_minor": 1
}
