{
 "cells": [
  {
   "cell_type": "code",
   "execution_count": 1,
   "metadata": {},
   "outputs": [],
   "source": [
    "# Import statements\n",
    "\n",
    "import os\n",
    "import io\n",
    "import requests\n",
    "import twitter\n",
    "import tweepy\n",
    "import pandas as pd\n",
    "import torch"
   ]
  },
  {
   "cell_type": "code",
   "execution_count": 4,
   "metadata": {},
   "outputs": [],
   "source": [
    "# Select Device for pytorch\n",
    "\n",
    "device = torch.device('cuda:0')\n",
    "#device = torch.device(\"cpu\")"
   ]
  },
  {
   "cell_type": "code",
   "execution_count": 5,
   "metadata": {},
   "outputs": [],
   "source": [
    "# API Keys\n",
    "\n",
    "api_key = '49MLYM81t66GvyQpfiNLq96J3'\n",
    "api_secret = '4KI6FuUkTSbi7q7yTouRw0WXVelFOB2YLufMa85XuhZIw8L9t8'\n",
    "bearer_token = 'AAAAAAAAAAAAAAAAAAAAAKiJGQEAAAAA1IUA3xJRTJFeoOfbPTsztCsFc88%3D27n8xd065wY0uw3MbUTA6tnRHpJnozfYkaubFPzv1Ck0xQ2rpN'\n",
    "access_token = '829254071785766914-iKA7OG4iJRLkwe3n5zUKWIMPHYhxL85'\n",
    "access_secret = 'GEuvcrWzcNJaLdBh36BIQ2KYIOBuXSPBlg7u321Po3Hl0'"
   ]
  },
  {
   "cell_type": "code",
   "execution_count": 6,
   "metadata": {},
   "outputs": [],
   "source": [
    "api = twitter.Api(consumer_key=api_key,\n",
    "                 consumer_secret=api_secret,\n",
    "                 access_token_key=access_token,\n",
    "                 access_token_secret=access_secret,\n",
    "                 sleep_on_rate_limit=True,\n",
    "                 tweet_mode='extended')"
   ]
  },
  {
   "cell_type": "code",
   "execution_count": 7,
   "metadata": {},
   "outputs": [],
   "source": [
    "auth = tweepy.OAuthHandler(api_key, api_secret)\n",
    "auth.set_access_token(access_token, access_secret)\n",
    "\n",
    "tweepy_api = tweepy.API(auth)"
   ]
  },
  {
   "cell_type": "code",
   "execution_count": 8,
   "metadata": {},
   "outputs": [],
   "source": [
    "def get_tweet_dataframe(api, search_term, tweet_count):\n",
    "    \n",
    "    result = api.GetSearch(term=search_term, count=tweet_count)\n",
    "    columns = ['User','Tweet Text']\n",
    "    df = pd.DataFrame(columns=columns)\n",
    "    \n",
    "    for index in range(len(result)):\n",
    "        df = df.append({'User':result[index].user.name,'Tweet Text':result[index].full_text}, ignore_index=True)\n",
    "    \n",
    "    return df"
   ]
  },
  {
   "cell_type": "code",
   "execution_count": 9,
   "metadata": {},
   "outputs": [],
   "source": [
    "def get_tweet_dataframe_raw(api, query, tweet_count):\n",
    "    \n",
    "    result = api.search(q = query, lang = 'en', tweet_mode = 'extended', count = tweet_count)\n",
    "    columns = ['User','Tweet Text']\n",
    "    df = pd.DataFrame(columns=columns)\n",
    "    \n",
    "    for index in range(len(result)):\n",
    "        df = df.append({'User':result[index].user.name,'Tweet Text':result[index].full_text}, ignore_index=True)\n",
    "    \n",
    "    return df"
   ]
  },
  {
   "cell_type": "code",
   "execution_count": 10,
   "metadata": {},
   "outputs": [],
   "source": [
    "covid_tweets = api.GetSearch(term = 'Covid-19', count = 1)"
   ]
  },
  {
   "cell_type": "code",
   "execution_count": 11,
   "metadata": {},
   "outputs": [],
   "source": [
    "stimulus_tweets = tweepy_api.search(q='\"stimulus package\" min_faves:100 -filter:links', lang = 'en', tweet_mode = 'extended', count = 1)"
   ]
  },
  {
   "cell_type": "code",
   "execution_count": 12,
   "metadata": {},
   "outputs": [
    {
     "name": "stdout",
     "output_type": "stream",
     "text": [
      "Status(_api=<tweepy.api.API object at 0x000002525E630780>, _json={'created_at': 'Tue Aug 11 18:52:09 +0000 2020', 'id': 1293258922443206657, 'id_str': '1293258922443206657', 'full_text': '@SpeakerPelosi You were holding up a stimulus package ... for once take responsibility for your actions!!!', 'truncated': False, 'display_text_range': [15, 106], 'entities': {'hashtags': [], 'symbols': [], 'user_mentions': [{'screen_name': 'SpeakerPelosi', 'name': 'Nancy Pelosi', 'id': 15764644, 'id_str': '15764644', 'indices': [0, 14]}], 'urls': []}, 'metadata': {'iso_language_code': 'en', 'result_type': 'recent'}, 'source': '<a href=\"http://twitter.com/download/iphone\" rel=\"nofollow\">Twitter for iPhone</a>', 'in_reply_to_status_id': 1293258135210262529, 'in_reply_to_status_id_str': '1293258135210262529', 'in_reply_to_user_id': 15764644, 'in_reply_to_user_id_str': '15764644', 'in_reply_to_screen_name': 'SpeakerPelosi', 'user': {'id': 536898957, 'id_str': '536898957', 'name': 'hmpcr7', 'screen_name': 'hectorponce86', 'location': 'LA cali', 'description': '', 'url': None, 'entities': {'description': {'urls': []}}, 'protected': False, 'followers_count': 57, 'friends_count': 590, 'listed_count': 0, 'created_at': 'Mon Mar 26 01:32:35 +0000 2012', 'favourites_count': 1644, 'utc_offset': None, 'time_zone': None, 'geo_enabled': False, 'verified': False, 'statuses_count': 3432, 'lang': None, 'contributors_enabled': False, 'is_translator': False, 'is_translation_enabled': False, 'profile_background_color': 'C0DEED', 'profile_background_image_url': 'http://abs.twimg.com/images/themes/theme1/bg.png', 'profile_background_image_url_https': 'https://abs.twimg.com/images/themes/theme1/bg.png', 'profile_background_tile': False, 'profile_image_url': 'http://pbs.twimg.com/profile_images/484278851480997889/-O6LxFxk_normal.jpeg', 'profile_image_url_https': 'https://pbs.twimg.com/profile_images/484278851480997889/-O6LxFxk_normal.jpeg', 'profile_banner_url': 'https://pbs.twimg.com/profile_banners/536898957/1356954503', 'profile_link_color': '1DA1F2', 'profile_sidebar_border_color': 'C0DEED', 'profile_sidebar_fill_color': 'DDEEF6', 'profile_text_color': '333333', 'profile_use_background_image': True, 'has_extended_profile': False, 'default_profile': True, 'default_profile_image': False, 'following': False, 'follow_request_sent': False, 'notifications': False, 'translator_type': 'none'}, 'geo': None, 'coordinates': None, 'place': None, 'contributors': None, 'is_quote_status': False, 'retweet_count': 16, 'favorite_count': 216, 'favorited': False, 'retweeted': False, 'lang': 'en'}, created_at=datetime.datetime(2020, 8, 11, 18, 52, 9), id=1293258922443206657, id_str='1293258922443206657', full_text='@SpeakerPelosi You were holding up a stimulus package ... for once take responsibility for your actions!!!', truncated=False, display_text_range=[15, 106], entities={'hashtags': [], 'symbols': [], 'user_mentions': [{'screen_name': 'SpeakerPelosi', 'name': 'Nancy Pelosi', 'id': 15764644, 'id_str': '15764644', 'indices': [0, 14]}], 'urls': []}, metadata={'iso_language_code': 'en', 'result_type': 'recent'}, source='Twitter for iPhone', source_url='http://twitter.com/download/iphone', in_reply_to_status_id=1293258135210262529, in_reply_to_status_id_str='1293258135210262529', in_reply_to_user_id=15764644, in_reply_to_user_id_str='15764644', in_reply_to_screen_name='SpeakerPelosi', author=User(_api=<tweepy.api.API object at 0x000002525E630780>, _json={'id': 536898957, 'id_str': '536898957', 'name': 'hmpcr7', 'screen_name': 'hectorponce86', 'location': 'LA cali', 'description': '', 'url': None, 'entities': {'description': {'urls': []}}, 'protected': False, 'followers_count': 57, 'friends_count': 590, 'listed_count': 0, 'created_at': 'Mon Mar 26 01:32:35 +0000 2012', 'favourites_count': 1644, 'utc_offset': None, 'time_zone': None, 'geo_enabled': False, 'verified': False, 'statuses_count': 3432, 'lang': None, 'contributors_enabled': False, 'is_translator': False, 'is_translation_enabled': False, 'profile_background_color': 'C0DEED', 'profile_background_image_url': 'http://abs.twimg.com/images/themes/theme1/bg.png', 'profile_background_image_url_https': 'https://abs.twimg.com/images/themes/theme1/bg.png', 'profile_background_tile': False, 'profile_image_url': 'http://pbs.twimg.com/profile_images/484278851480997889/-O6LxFxk_normal.jpeg', 'profile_image_url_https': 'https://pbs.twimg.com/profile_images/484278851480997889/-O6LxFxk_normal.jpeg', 'profile_banner_url': 'https://pbs.twimg.com/profile_banners/536898957/1356954503', 'profile_link_color': '1DA1F2', 'profile_sidebar_border_color': 'C0DEED', 'profile_sidebar_fill_color': 'DDEEF6', 'profile_text_color': '333333', 'profile_use_background_image': True, 'has_extended_profile': False, 'default_profile': True, 'default_profile_image': False, 'following': False, 'follow_request_sent': False, 'notifications': False, 'translator_type': 'none'}, id=536898957, id_str='536898957', name='hmpcr7', screen_name='hectorponce86', location='LA cali', description='', url=None, entities={'description': {'urls': []}}, protected=False, followers_count=57, friends_count=590, listed_count=0, created_at=datetime.datetime(2012, 3, 26, 1, 32, 35), favourites_count=1644, utc_offset=None, time_zone=None, geo_enabled=False, verified=False, statuses_count=3432, lang=None, contributors_enabled=False, is_translator=False, is_translation_enabled=False, profile_background_color='C0DEED', profile_background_image_url='http://abs.twimg.com/images/themes/theme1/bg.png', profile_background_image_url_https='https://abs.twimg.com/images/themes/theme1/bg.png', profile_background_tile=False, profile_image_url='http://pbs.twimg.com/profile_images/484278851480997889/-O6LxFxk_normal.jpeg', profile_image_url_https='https://pbs.twimg.com/profile_images/484278851480997889/-O6LxFxk_normal.jpeg', profile_banner_url='https://pbs.twimg.com/profile_banners/536898957/1356954503', profile_link_color='1DA1F2', profile_sidebar_border_color='C0DEED', profile_sidebar_fill_color='DDEEF6', profile_text_color='333333', profile_use_background_image=True, has_extended_profile=False, default_profile=True, default_profile_image=False, following=False, follow_request_sent=False, notifications=False, translator_type='none'), user=User(_api=<tweepy.api.API object at 0x000002525E630780>, _json={'id': 536898957, 'id_str': '536898957', 'name': 'hmpcr7', 'screen_name': 'hectorponce86', 'location': 'LA cali', 'description': '', 'url': None, 'entities': {'description': {'urls': []}}, 'protected': False, 'followers_count': 57, 'friends_count': 590, 'listed_count': 0, 'created_at': 'Mon Mar 26 01:32:35 +0000 2012', 'favourites_count': 1644, 'utc_offset': None, 'time_zone': None, 'geo_enabled': False, 'verified': False, 'statuses_count': 3432, 'lang': None, 'contributors_enabled': False, 'is_translator': False, 'is_translation_enabled': False, 'profile_background_color': 'C0DEED', 'profile_background_image_url': 'http://abs.twimg.com/images/themes/theme1/bg.png', 'profile_background_image_url_https': 'https://abs.twimg.com/images/themes/theme1/bg.png', 'profile_background_tile': False, 'profile_image_url': 'http://pbs.twimg.com/profile_images/484278851480997889/-O6LxFxk_normal.jpeg', 'profile_image_url_https': 'https://pbs.twimg.com/profile_images/484278851480997889/-O6LxFxk_normal.jpeg', 'profile_banner_url': 'https://pbs.twimg.com/profile_banners/536898957/1356954503', 'profile_link_color': '1DA1F2', 'profile_sidebar_border_color': 'C0DEED', 'profile_sidebar_fill_color': 'DDEEF6', 'profile_text_color': '333333', 'profile_use_background_image': True, 'has_extended_profile': False, 'default_profile': True, 'default_profile_image': False, 'following': False, 'follow_request_sent': False, 'notifications': False, 'translator_type': 'none'}, id=536898957, id_str='536898957', name='hmpcr7', screen_name='hectorponce86', location='LA cali', description='', url=None, entities={'description': {'urls': []}}, protected=False, followers_count=57, friends_count=590, listed_count=0, created_at=datetime.datetime(2012, 3, 26, 1, 32, 35), favourites_count=1644, utc_offset=None, time_zone=None, geo_enabled=False, verified=False, statuses_count=3432, lang=None, contributors_enabled=False, is_translator=False, is_translation_enabled=False, profile_background_color='C0DEED', profile_background_image_url='http://abs.twimg.com/images/themes/theme1/bg.png', profile_background_image_url_https='https://abs.twimg.com/images/themes/theme1/bg.png', profile_background_tile=False, profile_image_url='http://pbs.twimg.com/profile_images/484278851480997889/-O6LxFxk_normal.jpeg', profile_image_url_https='https://pbs.twimg.com/profile_images/484278851480997889/-O6LxFxk_normal.jpeg', profile_banner_url='https://pbs.twimg.com/profile_banners/536898957/1356954503', profile_link_color='1DA1F2', profile_sidebar_border_color='C0DEED', profile_sidebar_fill_color='DDEEF6', profile_text_color='333333', profile_use_background_image=True, has_extended_profile=False, default_profile=True, default_profile_image=False, following=False, follow_request_sent=False, notifications=False, translator_type='none'), geo=None, coordinates=None, place=None, contributors=None, is_quote_status=False, retweet_count=16, favorite_count=216, favorited=False, retweeted=False, lang='en')"
     ]
    },
    {
     "name": "stdout",
     "output_type": "stream",
     "text": [
      "\n"
     ]
    }
   ],
   "source": [
    "print(stimulus_tweets[0])"
   ]
  },
  {
   "cell_type": "code",
   "execution_count": 13,
   "metadata": {},
   "outputs": [],
   "source": [
    "stimulus_tweets2 = get_tweet_dataframe_raw(api = tweepy_api, query = '\"stimulus package\" min_faves:100 -filter:links', tweet_count = 100)"
   ]
  },
  {
   "cell_type": "code",
   "execution_count": 14,
   "metadata": {},
   "outputs": [
    {
     "data": {
      "text/html": [
       "<div>\n",
       "<style scoped>\n",
       "    .dataframe tbody tr th:only-of-type {\n",
       "        vertical-align: middle;\n",
       "    }\n",
       "\n",
       "    .dataframe tbody tr th {\n",
       "        vertical-align: top;\n",
       "    }\n",
       "\n",
       "    .dataframe thead th {\n",
       "        text-align: right;\n",
       "    }\n",
       "</style>\n",
       "<table border=\"1\" class=\"dataframe\">\n",
       "  <thead>\n",
       "    <tr style=\"text-align: right;\">\n",
       "      <th></th>\n",
       "      <th>User</th>\n",
       "      <th>Tweet Text</th>\n",
       "    </tr>\n",
       "  </thead>\n",
       "  <tbody>\n",
       "    <tr>\n",
       "      <th>0</th>\n",
       "      <td>hmpcr7</td>\n",
       "      <td>@SpeakerPelosi You were holding up a stimulus ...</td>\n",
       "    </tr>\n",
       "    <tr>\n",
       "      <th>1</th>\n",
       "      <td>Public Citizen</td>\n",
       "      <td>Why is the military slated to get millions in ...</td>\n",
       "    </tr>\n",
       "    <tr>\n",
       "      <th>2</th>\n",
       "      <td>Yaz</td>\n",
       "      <td>@BishesBrew @senatemajldr Today I have to spok...</td>\n",
       "    </tr>\n",
       "    <tr>\n",
       "      <th>3</th>\n",
       "      <td>Jason Gacek</td>\n",
       "      <td>@debrajsaunders @realDonaldTrump No, credit is...</td>\n",
       "    </tr>\n",
       "    <tr>\n",
       "      <th>4</th>\n",
       "      <td>Nick Perry</td>\n",
       "      <td>@realDonaldTrump This is better than stimulus ...</td>\n",
       "    </tr>\n",
       "  </tbody>\n",
       "</table>\n",
       "</div>"
      ],
      "text/plain": [
       "             User                                         Tweet Text\n",
       "0          hmpcr7  @SpeakerPelosi You were holding up a stimulus ...\n",
       "1  Public Citizen  Why is the military slated to get millions in ...\n",
       "2             Yaz  @BishesBrew @senatemajldr Today I have to spok...\n",
       "3     Jason Gacek  @debrajsaunders @realDonaldTrump No, credit is...\n",
       "4      Nick Perry  @realDonaldTrump This is better than stimulus ..."
      ]
     },
     "execution_count": 14,
     "metadata": {},
     "output_type": "execute_result"
    }
   ],
   "source": [
    "stimulus_tweets2.head()"
   ]
  },
  {
   "cell_type": "code",
   "execution_count": 16,
   "metadata": {},
   "outputs": [],
   "source": [
    "stimulus_tweets2.to_excel(\"stimulus_tweets.xlsx\")"
   ]
  },
  {
   "cell_type": "code",
   "execution_count": null,
   "metadata": {},
   "outputs": [],
   "source": []
  }
 ],
 "metadata": {
  "kernelspec": {
   "display_name": "Python 3",
   "language": "python",
   "name": "python3"
  },
  "language_info": {
   "codemirror_mode": {
    "name": "ipython",
    "version": 3
   },
   "file_extension": ".py",
   "mimetype": "text/x-python",
   "name": "python",
   "nbconvert_exporter": "python",
   "pygments_lexer": "ipython3",
   "version": "3.7.3"
  }
 },
 "nbformat": 4,
 "nbformat_minor": 2
}
