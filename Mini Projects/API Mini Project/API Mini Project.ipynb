{
 "cells": [
  {
   "cell_type": "code",
   "execution_count": 2,
   "metadata": {},
   "outputs": [],
   "source": [
    "# Setting API key\n",
    "API_KEY = 't3WTHCU94CsuyZT8vyza'"
   ]
  },
  {
   "cell_type": "code",
   "execution_count": 4,
   "metadata": {},
   "outputs": [],
   "source": [
    "# Importing relevant modules\n",
    "import requests\n",
    "import collections\n",
    "import json\n",
    "from pandas.io.json import json_normalize"
   ]
  },
  {
   "cell_type": "code",
   "execution_count": 14,
   "metadata": {},
   "outputs": [
    {
     "name": "stdout",
     "output_type": "stream",
     "text": [
      "{'dataset': {'id': 10095370, 'dataset_code': 'AFX_X', 'database_code': 'FSE', 'name': 'Carl Zeiss Meditec (AFX_X)', 'description': 'Stock Prices for Carl Zeiss Meditec (2020-01-10) from the Frankfurt Stock Exchange.<br><br>Trading System: Xetra<br><br>ISIN: DE0005313704', 'refreshed_at': '2020-01-24T22:17:04.770Z', 'newest_available_date': '2020-01-24', 'oldest_available_date': '2000-06-07', 'column_names': ['Date', 'Open', 'High', 'Low', 'Close', 'Change', 'Traded Volume', 'Turnover', 'Last Price of the Day', 'Daily Traded Units', 'Daily Turnover'], 'frequency': 'daily', 'type': 'Time Series', 'premium': False, 'limit': 1, 'transform': None, 'column_index': None, 'start_date': '2000-06-07', 'end_date': '2020-01-24', 'data': [['2020-01-24', 119.5, 120.7, 118.6, 120.2, None, 102713.0, 12323204.0, None, None, None]], 'collapse': None, 'order': None, 'database_id': 6129}}\n"
     ]
    }
   ],
   "source": [
    "# Calling Quandl API \n",
    "\n",
    "ticker = 'AFX_X'\n",
    "url = 'https://www.quandl.com/api/v3/databases/FSE/metadata?api_key=t3WTHCU94CsuyZT8vyza'\n",
    "url_AFX = 'https://www.quandl.com/api/v3/datasets/FSE/AFX_X.json?api_key=t3WTHCU94CsuyZT8vyza'\n",
    "params = {'limit':1}\n",
    "res1 = requests.get(url_AFX,params)\n",
    "print(res1.json())"
   ]
  },
  {
   "cell_type": "code",
   "execution_count": 13,
   "metadata": {},
   "outputs": [],
   "source": [
    "# 1. Collect data form the Frankfurt Stock Exchange for year 2017 for ticker AFX_X\n",
    "\n",
    "params_2017 = {'start_date':'2017-01-01','end_date':'2017-12-31'}\n",
    "res_2017 = requests.get(url_AFX,params_2017)\n"
   ]
  },
  {
   "cell_type": "code",
   "execution_count": 46,
   "metadata": {},
   "outputs": [
    {
     "name": "stdout",
     "output_type": "stream",
     "text": [
      "['2017-12-29', 51.76, 51.94, 51.45, 51.76, None, 34640.0, 1792304.0, None, None, None]\n"
     ]
    }
   ],
   "source": [
    "# 2. Convert the returned JSON object into a pyhton dictionary\n",
    "\n",
    "json_data = res_2017.json()['dataset']\n",
    "json_0 = json_data['data'][0]\n",
    "print(json_0)"
   ]
  },
  {
   "cell_type": "code",
   "execution_count": 45,
   "metadata": {},
   "outputs": [
    {
     "name": "stdout",
     "output_type": "stream",
     "text": [
      "Max Opening Price: $53.11\n",
      "Minimum Opening Price: $34.0\n"
     ]
    }
   ],
   "source": [
    "# 3. Calculate the highest and lowest opening stock prices\n",
    "max_opening = 0\n",
    "min_opening = 100\n",
    "for row in json_data['data']:\n",
    "    if row[1] !=None:\n",
    "        if row[1] > max_opening:\n",
    "            max_opening = row[1]\n",
    "        elif row[1] < min_opening:\n",
    "            min_opening = row[1]\n",
    "print('Max Opening Price: $' + str(max_opening))\n",
    "print('Minimum Opening Price: $' + str(min_opening))"
   ]
  },
  {
   "cell_type": "code",
   "execution_count": 44,
   "metadata": {},
   "outputs": [
    {
     "name": "stdout",
     "output_type": "stream",
     "text": [
      "Maximum Change in one day: $2.81\n"
     ]
    }
   ],
   "source": [
    "# 4. What was the largest change in any one day\n",
    "max_change = 0\n",
    "for row in json_data['data']:\n",
    "    if row[2] - row[3] > max_change:\n",
    "        max_change = row[2] - row[3]\n",
    "print('Maximum Change in one day: $' + str(round(max_change,2)))"
   ]
  },
  {
   "cell_type": "code",
   "execution_count": 43,
   "metadata": {},
   "outputs": [
    {
     "name": "stdout",
     "output_type": "stream",
     "text": [
      "Largest change in close price: $2.56\n"
     ]
    }
   ],
   "source": [
    "# 5. What was the largest change between any two days (Based on closing price)?\n",
    "last_close = 0\n",
    "close_change = 0\n",
    "max_close_change = 0\n",
    "counter = 0\n",
    "for row in json_data['data']:\n",
    "    if row[4] != None:\n",
    "        if counter == 0:\n",
    "            last_close = row[4]\n",
    "            counter += 1\n",
    "        else:\n",
    "            close_change = abs(row[4]-last_close)\n",
    "            if close_change > max_close_change:\n",
    "                max_close_change = close_change\n",
    "            last_close = row[4]\n",
    "\n",
    "print('Largest change in close price: $' + str(round(max_close_change,2)))"
   ]
  },
  {
   "cell_type": "code",
   "execution_count": 49,
   "metadata": {},
   "outputs": [
    {
     "name": "stdout",
     "output_type": "stream",
     "text": [
      "Average Daily Trade: $89124.34\n"
     ]
    }
   ],
   "source": [
    "# 6. What was the average daily trading volume during this year?\n",
    "trading_sum = 0\n",
    "counter = 0\n",
    "for row in json_data['data']:\n",
    "    trading_sum += row[6]\n",
    "    counter += 1\n",
    "average_day = trading_sum / counter\n",
    "print('Average Daily Trade: $' + str(round(average_day,2)))"
   ]
  }
 ],
 "metadata": {
  "kernelspec": {
   "display_name": "Python 3",
   "language": "python",
   "name": "python3"
  },
  "language_info": {
   "codemirror_mode": {
    "name": "ipython",
    "version": 3
   },
   "file_extension": ".py",
   "mimetype": "text/x-python",
   "name": "python",
   "nbconvert_exporter": "python",
   "pygments_lexer": "ipython3",
   "version": "3.7.4"
  }
 },
 "nbformat": 4,
 "nbformat_minor": 2
}
