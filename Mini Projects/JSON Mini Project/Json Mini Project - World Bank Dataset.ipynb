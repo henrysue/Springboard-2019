{
 "cells": [
  {
   "cell_type": "code",
   "execution_count": 25,
   "metadata": {},
   "outputs": [],
   "source": [
    "# Importing Libraries\n",
    "\n",
    "import pandas as pd\n",
    "import json\n",
    "from pandas.io.json import json_normalize"
   ]
  },
  {
   "cell_type": "code",
   "execution_count": 28,
   "metadata": {},
   "outputs": [],
   "source": [
    "# Loading JSON File as a String\n",
    "\n",
    "json_file = json.load((open('data/world_bank_projects.json')))"
   ]
  },
  {
   "cell_type": "code",
   "execution_count": 42,
   "metadata": {},
   "outputs": [
    {
     "name": "stdout",
     "output_type": "stream",
     "text": [
      "                                    _id  approvalfy board_approval_month  \\\n",
      "0  {'$oid': '52b213b38594d8a2be17c780'}        1999             November   \n",
      "\n",
      "      boardapprovaldate                                 borrower  \\\n",
      "0  2013-11-12T00:00:00Z  FEDERAL DEMOCRATIC REPUBLIC OF ETHIOPIA   \n",
      "\n",
      "            closingdate                              country_namecode  \\\n",
      "0  2018-07-07T00:00:00Z  Federal Democratic Republic of Ethiopia!$!ET   \n",
      "\n",
      "  countrycode                              countryname countryshortname  ...  \\\n",
      "0          ET  Federal Democratic Republic of Ethiopia         Ethiopia  ...   \n",
      "\n",
      "    sectorcode source  status  supplementprojectflg  \\\n",
      "0  ET,BS,ES,EP   IBRD  Active                     N   \n",
      "\n",
      "                                          theme1  \\\n",
      "0  {'Percent': 100, 'Name': 'Education for all'}   \n",
      "\n",
      "                                  theme_namecode themecode   totalamt  \\\n",
      "0  [{'code': '65', 'name': 'Education for all'}]        65  130000000   \n",
      "\n",
      "  totalcommamt                                                url  \n",
      "0    130000000  http://www.worldbank.org/projects/P129828/ethi...  \n",
      "\n",
      "[1 rows x 50 columns]\n"
     ]
    }
   ],
   "source": [
    "# Loading json as Pandas DataFrame, we print the top row to see the structure of the DataFrame\n",
    "\n",
    "json_df = pd.read_json('data/world_bank_projects.json')\n",
    "print(json_df.head(1))"
   ]
  },
  {
   "cell_type": "code",
   "execution_count": 8,
   "metadata": {},
   "outputs": [
    {
     "name": "stdout",
     "output_type": "stream",
     "text": [
      "Republic of Indonesia              19\n",
      "People's Republic of China         19\n",
      "Socialist Republic of Vietnam      17\n",
      "Republic of India                  16\n",
      "Republic of Yemen                  13\n",
      "Nepal                              12\n",
      "People's Republic of Bangladesh    12\n",
      "Kingdom of Morocco                 12\n",
      "Africa                             11\n",
      "Republic of Mozambique             11\n",
      "Name: countryname, dtype: int64\n"
     ]
    }
   ],
   "source": [
    "#  Extract top 10 Countries\n",
    "# Exercise Problem 1 Answer\n",
    "\n",
    "top_ten = json_df['countryname'].value_counts().head(10)\n",
    "print(top_ten)"
   ]
  },
  {
   "cell_type": "code",
   "execution_count": 15,
   "metadata": {},
   "outputs": [
    {
     "name": "stdout",
     "output_type": "stream",
     "text": [
      "Republic of Indonesia              19\n",
      "People's Republic of China         19\n",
      "Socialist Republic of Vietnam      17\n",
      "Republic of India                  16\n",
      "Republic of Yemen                  13\n",
      "Nepal                              12\n",
      "People's Republic of Bangladesh    12\n",
      "Kingdom of Morocco                 12\n",
      "Republic of Mozambique             11\n",
      "Islamic Republic of Pakistan        9\n",
      "Name: countryname, dtype: int64\n"
     ]
    }
   ],
   "source": [
    "# Here, I noticed that Africa is included in this top 10 list, which is incorrect, since Africa is not a country.\n",
    "# We therefore create a new output while excluding 'Africa'\n",
    "\n",
    "top_ten_without_africa = json_df[json_df['countryname'] != 'Africa']['countryname'].value_counts().head(10)\n",
    "print(top_ten_without_africa)"
   ]
  },
  {
   "cell_type": "code",
   "execution_count": 44,
   "metadata": {},
   "outputs": [
    {
     "name": "stdout",
     "output_type": "stream",
     "text": [
      "0    [{'code': '8', 'name': 'Human development'}, {...\n",
      "1    [{'code': '1', 'name': 'Economic management'},...\n",
      "2    [{'code': '5', 'name': 'Trade and integration'...\n",
      "3    [{'code': '7', 'name': 'Social dev/gender/incl...\n",
      "4    [{'code': '5', 'name': 'Trade and integration'...\n",
      "Name: mjtheme_namecode, dtype: object\n"
     ]
    }
   ],
   "source": [
    "# Problem 2: Extracting top 10 major project themes\n",
    "# First we need to take a look at the 'mjnamecode' column as per the exercise.\n",
    "\n",
    "namecode = json_df.mjtheme_namecode\n",
    "print(namecode.head())"
   ]
  },
  {
   "cell_type": "code",
   "execution_count": 29,
   "metadata": {},
   "outputs": [
    {
     "name": "stdout",
     "output_type": "stream",
     "text": [
      "  code                                          name       id\n",
      "0    8                             Human development  P129828\n",
      "1   11                                                P129828\n",
      "2    1                           Economic management  P144674\n",
      "3    6         Social protection and risk management  P144674\n",
      "4    5                         Trade and integration  P145310\n",
      "5    2                      Public sector governance  P145310\n",
      "6   11  Environment and natural resources management  P145310\n",
      "7    6         Social protection and risk management  P145310\n",
      "8    7                   Social dev/gender/inclusion  P144665\n",
      "9    7                   Social dev/gender/inclusion  P144665\n"
     ]
    }
   ],
   "source": [
    "# We can see that namecodes are repeated and that codes correspond to a 'name', and some names are blank.\n",
    "# We normalize the json to produce a much cleaner format.\n",
    "\n",
    "theme_normalized = json_normalize(json_file, 'mjtheme_namecode', ['id'])\n",
    "print(theme_normalized.head(10))"
   ]
  },
  {
   "cell_type": "code",
   "execution_count": 33,
   "metadata": {},
   "outputs": [
    {
     "name": "stdout",
     "output_type": "stream",
     "text": [
      "Environment and natural resources management    223\n",
      "Rural development                               202\n",
      "Human development                               197\n",
      "Public sector governance                        184\n",
      "Social protection and risk management           158\n",
      "Financial and private sector development        130\n",
      "                                                122\n",
      "Social dev/gender/inclusion                     119\n",
      "Trade and integration                            72\n",
      "Urban development                                47\n",
      "Name: name, dtype: int64\n"
     ]
    }
   ],
   "source": [
    "# In order to find the top 10 project themes, we use value_counts again to give us the count of all the names\n",
    "\n",
    "top_namecodes = theme_normalized['name'].value_counts().head(10)\n",
    "print(top_namecodes)"
   ]
  },
  {
   "cell_type": "code",
   "execution_count": 40,
   "metadata": {},
   "outputs": [],
   "source": [
    "# Problem 3: We have 122 blank values that we need to remove.\n",
    "# We can do this by iterating over each row in theme_normalized.\n",
    "\n",
    "# Let us create a dicitonary with appropriate values:\n",
    "\n",
    "codes = { 0:'',\n",
    "    1:'Economic management', \n",
    "    2:'Public sector governance', \n",
    "    3:'Rule of law',\n",
    "    4:'Financial and private sector development', \n",
    "    5:'Trade and integration', \n",
    "    6:'Social protection and risk management', \n",
    "    7:'Social dev/gender/inclusion', \n",
    "    8:'Human development', \n",
    "    9:'Urban development', \n",
    "    10:'Rural development', \n",
    "    11:'Environment and natural resources management'\n",
    "}\n",
    "\n",
    "# Here we iterate over the generator for theme and call the dictionary of the name codes to fill in the blank values.\n",
    "\n",
    "theme_clean = theme_normalized\n",
    "for index,row in theme_clean.iterrows():\n",
    "    if row['name'] == '':\n",
    "        row['name'] = codes[int(row['code'])]"
   ]
  },
  {
   "cell_type": "code",
   "execution_count": 41,
   "metadata": {},
   "outputs": [
    {
     "name": "stdout",
     "output_type": "stream",
     "text": [
      "Environment and natural resources management    250\n",
      "Rural development                               216\n",
      "Human development                               210\n",
      "Public sector governance                        199\n",
      "Social protection and risk management           168\n",
      "Financial and private sector development        146\n",
      "Social dev/gender/inclusion                     130\n",
      "Trade and integration                            77\n",
      "Urban development                                50\n",
      "Economic management                              38\n",
      "Name: name, dtype: int64\n"
     ]
    }
   ],
   "source": [
    "# Now lets check again how many values each topic has:\n",
    "\n",
    "top_namecodes_clean = theme_clean['name'].value_counts().head(10)\n",
    "print(top_namecodes_clean)"
   ]
  }
 ],
 "metadata": {
  "kernelspec": {
   "display_name": "Python 3",
   "language": "python",
   "name": "python3"
  },
  "language_info": {
   "codemirror_mode": {
    "name": "ipython",
    "version": 3
   },
   "file_extension": ".py",
   "mimetype": "text/x-python",
   "name": "python",
   "nbconvert_exporter": "python",
   "pygments_lexer": "ipython3",
   "version": "3.7.3"
  }
 },
 "nbformat": 4,
 "nbformat_minor": 2
}
